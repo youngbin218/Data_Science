{
 "cells": [
  {
   "cell_type": "code",
   "execution_count": 3,
   "id": "965c3a1d",
   "metadata": {
    "scrolled": true
   },
   "outputs": [
    {
     "name": "stderr",
     "output_type": "stream",
     "text": [
      "C:\\Users\\msi\\anaconda3\\envs\\study\\lib\\site-packages\\ipykernel_launcher.py:81: FutureWarning: Passing 'suffixes' which cause duplicate columns {'순위_x'} in the result is deprecated and will raise a MergeError in a future version.\n",
      "C:\\Users\\msi\\anaconda3\\envs\\study\\lib\\site-packages\\ipykernel_launcher.py:68: FutureWarning: Passing 'suffixes' which cause duplicate columns {'G_x', '순위_x'} in the result is deprecated and will raise a MergeError in a future version.\n"
     ]
    },
    {
     "name": "stdout",
     "output_type": "stream",
     "text": [
      "Index(['순위_x', '팀명', 'AVG_x', 'G_x', 'PA', 'AB', 'R_x', 'H_x', '2B_x', '3B_x',\n",
      "       'HR_x', 'TB', 'RBI', 'SAC_x', 'SF_x', '순위_y', 'AVG_y', 'BB_x', 'IBB_x',\n",
      "       'HBP_x', 'SO_x', 'GDP', 'SLG', 'OBP', 'OPS', 'MH', 'RISP', 'PH-BA',\n",
      "       '순위_x', 'ERA_x', 'G_y', 'W', 'L', 'SV', 'HLD', 'WPCT', 'IP', 'H_y',\n",
      "       'HR_y', 'BB_y', 'HBP_y', 'SO_y', 'R_y', 'ER', 'WHIP', '순위_y', 'ERA_y',\n",
      "       'CG', 'SHO', 'QS', 'BSV', 'TBF', 'NP', 'AVG', '2B_y', '3B_y', 'SAC_y',\n",
      "       'SF_y', 'IBB_y', 'WP', 'BK', '순위_x', 'G_x', 'E', 'PKO_x', 'PO', 'A',\n",
      "       'DP', 'FPCT', 'PB', 'SB_x', 'CS_x', 'CS%', '순위_y', 'G_y', 'SBA', 'SB_y',\n",
      "       'CS_y', 'SB%', 'OOB', 'PKO_y'],\n",
      "      dtype='object')\n"
     ]
    }
   ],
   "source": [
    "# KBO 기록실에서 연도별 팀 성적 크롤링\n",
    "import numpy as np\n",
    "import pandas as pd\n",
    "import time\n",
    "from bs4 import BeautifulSoup\n",
    "from selenium import webdriver\n",
    "from html_table_parser import parser_functions as parser\n",
    "from selenium.webdriver.support.select import Select\n",
    "\n",
    "# Query 변수\n",
    "sort_list = {\"Hitter\" : \"BasicOld\", \"Pitcher\" : \"BasicOld\", \"Defense\" : \"Basic\", \"Runner\" : \"Basic\"}\n",
    "\n",
    "# 2001 ~ 2021 팀 성적\n",
    "kbo_list = list(np.arange(2001, 2022))\n",
    "year_record = []\n",
    "\n",
    "for record in kbo_list:\n",
    "    record = pd.DataFrame()\n",
    "    year_record.append(record)\n",
    "    \n",
    "for i in range(0, len(sort_list)):\n",
    "    # 드라이버 객체\n",
    "    driver = webdriver.Chrome(executable_path='D:/conda/chromedriver.exe')\n",
    "    \n",
    "    # KBO 기록실 URL\n",
    "    part_URL = \"https://www.koreabaseball.com/Record/Team/\"\n",
    "        \n",
    "    # 각 기록별 URL\n",
    "    part_URL += list(sort_list.keys())[i] + \"/\" + list(sort_list.values())[i] + \".aspx\"\n",
    "    \n",
    "    driver.get(url=str(part_URL))\n",
    "    \n",
    "    if i == 0:\n",
    "        select_tag = Select(driver.find_element_by_id(\"cphContents_cphContents_cphContents_ddlSeries_ddlSeries\"))\n",
    "        select_tag.select_by_value(str(0))\n",
    "    elif i == 1:\n",
    "        select_tag = Select(driver.find_element_by_id(\"cphContents_cphContents_cphContents_ddlSeries_ddlSeries\"))\n",
    "        select_tag.select_by_value(str(7))\n",
    "        time.sleep(2)\n",
    "        select_tag = Select(driver.find_element_by_id(\"cphContents_cphContents_cphContents_ddlSeries_ddlSeries\"))\n",
    "        select_tag.select_by_value(str(0))\n",
    "        \n",
    "    time.sleep(2)\n",
    "    \n",
    "    for j in range(0, 21):\n",
    "        if i == 0 or i == 1:\n",
    "            button = driver.find_elements_by_xpath('//*[@id=\"cphContents_cphContents_cphContents_udpContent\"]/div[2]/div/div/a[1]')[0]\n",
    "            button.click()\n",
    "            \n",
    "        time.sleep(2)\n",
    "            \n",
    "        select_tag = Select(driver.find_element_by_id(\"cphContents_cphContents_cphContents_ddlSeason_ddlSeason\"))\n",
    "        select_tag.select_by_value(str(j+2001))\n",
    "        \n",
    "        time.sleep(2)\n",
    "        \n",
    "        html = driver.page_source\n",
    "        soup = BeautifulSoup(html, 'html.parser')\n",
    "        record_table = soup.find_all('table')\n",
    "        data = parser.make2d(record_table[0])\n",
    "        df = pd.DataFrame(data[1:], columns=data[0])\n",
    "        \n",
    "        if i == 0:\n",
    "            year_record[j] = pd.concat([year_record[j], df], ignore_index=True)\n",
    "        else:\n",
    "            year_record[j] = pd.merge(year_record[j], df, on='팀명')\n",
    "            \n",
    "        if i == 0 or i == 1:\n",
    "            button = driver.find_elements_by_xpath('//*[@id=\"cphContents_cphContents_cphContents_udpContent\"]/div[2]/div/div/a[2]')[0]\n",
    "            button.click()\n",
    "            \n",
    "            time.sleep(2)\n",
    "        \n",
    "            html = driver.page_source\n",
    "            soup = BeautifulSoup(html, 'html.parser')\n",
    "            record_table = soup.find_all('table')\n",
    "            data = parser.make2d(record_table[0])\n",
    "            df = pd.DataFrame(data[1:], columns=data[0])\n",
    "            year_record[j] = pd.merge(year_record[j], df, on='팀명')\n",
    "            \n",
    "    driver.close()\n",
    "\n",
    "pd.set_option('display.max_columns', None)\n",
    "print(year_record[0].columns)\n",
    "    \n",
    "for i in range(len(year_record)):\n",
    "    year_record[i] = year_record[i].drop(['순위_x', 'G_x', '순위_y', 'AVG_y', 'ERA_y' ,'G_y'], axis=1)\n",
    "    year_record[i].to_csv('./' + str(kbo_list[i]) + '.csv', index=False)"
   ]
  },
  {
   "cell_type": "code",
   "execution_count": 16,
   "id": "328b1813",
   "metadata": {
    "scrolled": true
   },
   "outputs": [],
   "source": [
    "# 팀 성적에는 없던 순위 가져오기\n",
    "import numpy as np\n",
    "import pandas as pd\n",
    "import time\n",
    "from bs4 import BeautifulSoup\n",
    "from selenium import webdriver\n",
    "from html_table_parser import parser_functions as parser\n",
    "from selenium.webdriver.support.select import Select\n",
    "\n",
    "# 2001 ~ 2021 팀 성적 csv 불러오기\n",
    "file = []\n",
    "year_record = []\n",
    "\n",
    "for i in range(2001, 2022):\n",
    "    file.append('./' + str(i) + '.csv')\n",
    "    \n",
    "for f in file:\n",
    "    year_record.append(pd.read_csv(f))\n",
    "\n",
    "# 드라이버 객체\n",
    "driver = webdriver.Chrome(executable_path='D:/conda/chromedriver.exe')\n",
    "    \n",
    "# KBO 기록실 URL\n",
    "URL = \"https://www.koreabaseball.com/TeamRank/TeamRank.aspx\"\n",
    "\n",
    "driver.get(url=str(URL))\n",
    "\n",
    "for i in range(2001, 2022):\n",
    "    select_tag = Select(driver.find_element_by_id(\"cphContents_cphContents_cphContents_ddlYear\"))\n",
    "    select_tag.select_by_value(str(i))\n",
    "    \n",
    "    time.sleep(2)\n",
    "    \n",
    "    html = driver.page_source\n",
    "    soup = BeautifulSoup(html, 'html.parser')\n",
    "    record_table = soup.find('table') #div#cphContents_cphContents_cphContents_udpRecord table')\n",
    "    data = parser.make2d(record_table)\n",
    "    df = pd.DataFrame(data[1:], columns=data[0])\n",
    "    df = df.drop(['승률', '경기', '승', '패', '무', '게임차' ,'최근10경기', '연속', '홈', '방문'], axis=1)\n",
    "    year_record[i-2001] = pd.merge(year_record[i-2001], df, on='팀명')\n",
    "    year_record[i-2001].to_csv('./' + str(i) + '_new.csv', index=False)\n",
    "\n",
    "driver.close()"
   ]
  },
  {
   "cell_type": "code",
   "execution_count": 1,
   "id": "9049cf4c",
   "metadata": {
    "scrolled": true
   },
   "outputs": [
    {
     "name": "stdout",
     "output_type": "stream",
     "text": [
      "AVG_x 0.45976360550489914\n"
     ]
    },
    {
     "data": {
      "image/png": "[encoded data removed]",
      "text/plain": [
       "<Figure size 432x288 with 1 Axes>"
      ]
     },
     "metadata": {
      "needs_background": "light"
     },
     "output_type": "display_data"
    },
    {
     "name": "stdout",
     "output_type": "stream",
     "text": [
      "R_x 0.4660857852101359\n"
     ]
    },
    {
     "data": {
      "image/png": "[encoded data removed]",
      "text/plain": [
       "<Figure size 432x288 with 1 Axes>"
      ]
     },
     "metadata": {
      "needs_background": "light"
     },
     "output_type": "display_data"
    },
    {
     "name": "stdout",
     "output_type": "stream",
     "text": [
      "RBI 0.45833188789470336\n"
     ]
    },
    {
     "data": {
      "image/png": "[encoded data removed]",
      "text/plain": [
       "<Figure size 432x288 with 1 Axes>"
      ]
     },
     "metadata": {
      "needs_background": "light"
     },
     "output_type": "display_data"
    },
    {
     "name": "stdout",
     "output_type": "stream",
     "text": [
      "SLG 0.4483750015923957\n"
     ]
    },
    {
     "data": {
      "image/png": "[encoded data removed]",
      "text/plain": [
       "<Figure size 432x288 with 1 Axes>"
      ]
     },
     "metadata": {
      "needs_background": "light"
     },
     "output_type": "display_data"
    },
    {
     "name": "stdout",
     "output_type": "stream",
     "text": [
      "OBP 0.5852839112790086\n"
     ]
    },
    {
     "data": {
      "image/png": "[encoded data removed]",
      "text/plain": [
       "<Figure size 432x288 with 1 Axes>"
      ]
     },
     "metadata": {
      "needs_background": "light"
     },
     "output_type": "display_data"
    },
    {
     "name": "stdout",
     "output_type": "stream",
     "text": [
      "OPS 0.5173638867737653\n"
     ]
    },
    {
     "data": {
      "image/png": "[encoded data removed]",
      "text/plain": [
       "<Figure size 432x288 with 1 Axes>"
      ]
     },
     "metadata": {
      "needs_background": "light"
     },
     "output_type": "display_data"
    },
    {
     "name": "stdout",
     "output_type": "stream",
     "text": [
      "RISP 0.4785205747890358\n"
     ]
    },
    {
     "data": {
      "image/png": "[encoded data removed]",
      "text/plain": [
       "<Figure size 432x288 with 1 Axes>"
      ]
     },
     "metadata": {
      "needs_background": "light"
     },
     "output_type": "display_data"
    },
    {
     "name": "stdout",
     "output_type": "stream",
     "text": [
      "ERA_x -0.5605699589306683\n"
     ]
    },
    {
     "data": {
      "image/png": "[encoded data removed]",
      "text/plain": [
       "<Figure size 432x288 with 1 Axes>"
      ]
     },
     "metadata": {
      "needs_background": "light"
     },
     "output_type": "display_data"
    },
    {
     "name": "stdout",
     "output_type": "stream",
     "text": [
      "SV 0.6560292627381297\n"
     ]
    },
    {
     "data": {
      "image/png": "[encoded data removed]",
      "text/plain": [
       "<Figure size 432x288 with 1 Axes>"
      ]
     },
     "metadata": {
      "needs_background": "light"
     },
     "output_type": "display_data"
    },
    {
     "name": "stdout",
     "output_type": "stream",
     "text": [
      "R_y -0.46558158699651414\n"
     ]
    },
    {
     "data": {
      "image/png": "[encoded data removed]",
      "text/plain": [
       "<Figure size 432x288 with 1 Axes>"
      ]
     },
     "metadata": {
      "needs_background": "light"
     },
     "output_type": "display_data"
    },
    {
     "name": "stdout",
     "output_type": "stream",
     "text": [
      "ER -0.4531639842927051\n"
     ]
    },
    {
     "data": {
      "image/png": "[encoded data removed]",
      "text/plain": [
       "<Figure size 432x288 with 1 Axes>"
      ]
     },
     "metadata": {
      "needs_background": "light"
     },
     "output_type": "display_data"
    },
    {
     "name": "stdout",
     "output_type": "stream",
     "text": [
      "WHIP -0.5682104523922502\n"
     ]
    },
    {
     "data": {
      "image/png": "[encoded data removed]",
      "text/plain": [
       "<Figure size 432x288 with 1 Axes>"
      ]
     },
     "metadata": {
      "needs_background": "light"
     },
     "output_type": "display_data"
    },
    {
     "name": "stdout",
     "output_type": "stream",
     "text": [
      "QS 0.4205476495805382\n"
     ]
    },
    {
     "data": {
      "image/png": "[encoded data removed]",
      "text/plain": [
       "<Figure size 432x288 with 1 Axes>"
      ]
     },
     "metadata": {
      "needs_background": "light"
     },
     "output_type": "display_data"
    },
    {
     "name": "stdout",
     "output_type": "stream",
     "text": [
      "AVG -0.46614014326494635\n"
     ]
    },
    {
     "data": {
      "image/png": "[encoded data removed]",
      "text/plain": [
       "<Figure size 432x288 with 1 Axes>"
      ]
     },
     "metadata": {
      "needs_background": "light"
     },
     "output_type": "display_data"
    },
    {
     "name": "stdout",
     "output_type": "stream",
     "text": [
      "['팀명', 'AVG_x', 'R_x', 'RBI', 'SLG', 'OBP', 'OPS', 'RISP', 'ERA_x', 'SV', 'R_y', 'ER', 'WHIP', 'QS', 'AVG', 'WPCT', '순위']\n"
     ]
    }
   ],
   "source": [
    "import numpy as np\n",
    "import pandas as pd\n",
    "import matplotlib.pyplot as plt\n",
    "\n",
    "# 2001 ~ 2021 팀 성적 csv 불러오기\n",
    "file = []\n",
    "year_record = pd.DataFrame()\n",
    "\n",
    "for i in range(2001, 2022):\n",
    "    file.append(pd.read_csv('./' + str(i) + '_new.csv'))\n",
    "    \n",
    "# 하나로 합침\n",
    "for f in file:\n",
    "    year_record = pd.concat([year_record, f], ignore_index=True)\n",
    "\n",
    "# 승률과의 상관관계 확인 전 각 컬럼의 속성 확인\n",
    "'''pd.set_option('display.max_rows', None)\n",
    "print(year_record.dtypes)\n",
    "print(len(year_record.columns))''' # columns -> 71개\n",
    "\n",
    "# object인 팀명, IP 컬럼 제거\n",
    "#year_record = year_record.drop(['팀명', 'IP'], axis=1)\n",
    "feature = ['팀명']\n",
    "\n",
    "for index, col in enumerate(year_record.columns):\n",
    "    if col == '팀명' or col == 'IP':\n",
    "        continue\n",
    "    elif index <= 66 and (0.4 <= year_record[col].corr(year_record['WPCT']) <= 0.7 or -0.7 <= year_record[col].corr(year_record['WPCT']) <= -0.4):\n",
    "        feature.append(col)\n",
    "        print(col, year_record[col].corr(year_record['WPCT']))\n",
    "        plt.scatter(x=year_record[col], y=year_record['WPCT'], label=col)\n",
    "        plt.xlabel(col)\n",
    "        plt.ylabel('WPCT')\n",
    "        plt.show()\n",
    "\n",
    "feature.append('WPCT')\n",
    "feature.append('순위')\n",
    "print(feature)"
   ]
  },
  {
   "cell_type": "code",
   "execution_count": 3,
   "id": "6bd16e5a",
   "metadata": {},
   "outputs": [
    {
     "data": {
      "text/html": [
       "<div>\n",
       "<style scoped>\n",
       "    .dataframe tbody tr th:only-of-type {\n",
       "        vertical-align: middle;\n",
       "    }\n",
       "\n",
       "    .dataframe tbody tr th {\n",
       "        vertical-align: top;\n",
       "    }\n",
       "\n",
       "    .dataframe thead th {\n",
       "        text-align: right;\n",
       "    }\n",
       "</style>\n",
       "<table border=\"1\" class=\"dataframe\">\n",
       "  <thead>\n",
       "    <tr style=\"text-align: right;\">\n",
       "      <th></th>\n",
       "      <th>TEAM</th>\n",
       "      <th>AVG_x</th>\n",
       "      <th>PA</th>\n",
       "      <th>AB</th>\n",
       "      <th>R_x</th>\n",
       "      <th>H_x</th>\n",
       "      <th>2B_x</th>\n",
       "      <th>3B_x</th>\n",
       "      <th>HR_x</th>\n",
       "      <th>TB</th>\n",
       "      <th>...</th>\n",
       "      <th>SB_x</th>\n",
       "      <th>CS_x</th>\n",
       "      <th>CS%</th>\n",
       "      <th>SBA</th>\n",
       "      <th>SB_y</th>\n",
       "      <th>CS_y</th>\n",
       "      <th>SB%</th>\n",
       "      <th>OOB</th>\n",
       "      <th>PKO_y</th>\n",
       "      <th>RANK</th>\n",
       "    </tr>\n",
       "  </thead>\n",
       "  <tbody>\n",
       "    <tr>\n",
       "      <th>0</th>\n",
       "      <td>롯데</td>\n",
       "      <td>0.280</td>\n",
       "      <td>5308</td>\n",
       "      <td>4521</td>\n",
       "      <td>718</td>\n",
       "      <td>1265</td>\n",
       "      <td>247</td>\n",
       "      <td>24</td>\n",
       "      <td>121</td>\n",
       "      <td>1923</td>\n",
       "      <td>...</td>\n",
       "      <td>85</td>\n",
       "      <td>58</td>\n",
       "      <td>40.6</td>\n",
       "      <td>159</td>\n",
       "      <td>106</td>\n",
       "      <td>53</td>\n",
       "      <td>66.7</td>\n",
       "      <td>0</td>\n",
       "      <td>0</td>\n",
       "      <td>8</td>\n",
       "    </tr>\n",
       "    <tr>\n",
       "      <th>1</th>\n",
       "      <td>KIA</td>\n",
       "      <td>0.278</td>\n",
       "      <td>5189</td>\n",
       "      <td>4542</td>\n",
       "      <td>683</td>\n",
       "      <td>1263</td>\n",
       "      <td>221</td>\n",
       "      <td>17</td>\n",
       "      <td>142</td>\n",
       "      <td>1944</td>\n",
       "      <td>...</td>\n",
       "      <td>100</td>\n",
       "      <td>53</td>\n",
       "      <td>34.6</td>\n",
       "      <td>155</td>\n",
       "      <td>92</td>\n",
       "      <td>63</td>\n",
       "      <td>59.4</td>\n",
       "      <td>0</td>\n",
       "      <td>0</td>\n",
       "      <td>5</td>\n",
       "    </tr>\n",
       "    <tr>\n",
       "      <th>2</th>\n",
       "      <td>삼성</td>\n",
       "      <td>0.277</td>\n",
       "      <td>5280</td>\n",
       "      <td>4553</td>\n",
       "      <td>739</td>\n",
       "      <td>1262</td>\n",
       "      <td>244</td>\n",
       "      <td>21</td>\n",
       "      <td>162</td>\n",
       "      <td>2034</td>\n",
       "      <td>...</td>\n",
       "      <td>95</td>\n",
       "      <td>48</td>\n",
       "      <td>33.6</td>\n",
       "      <td>117</td>\n",
       "      <td>73</td>\n",
       "      <td>44</td>\n",
       "      <td>62.4</td>\n",
       "      <td>0</td>\n",
       "      <td>0</td>\n",
       "      <td>2</td>\n",
       "    </tr>\n",
       "    <tr>\n",
       "      <th>3</th>\n",
       "      <td>두산</td>\n",
       "      <td>0.276</td>\n",
       "      <td>5303</td>\n",
       "      <td>4583</td>\n",
       "      <td>732</td>\n",
       "      <td>1266</td>\n",
       "      <td>221</td>\n",
       "      <td>26</td>\n",
       "      <td>130</td>\n",
       "      <td>1929</td>\n",
       "      <td>...</td>\n",
       "      <td>126</td>\n",
       "      <td>56</td>\n",
       "      <td>30.8</td>\n",
       "      <td>166</td>\n",
       "      <td>132</td>\n",
       "      <td>34</td>\n",
       "      <td>79.5</td>\n",
       "      <td>0</td>\n",
       "      <td>0</td>\n",
       "      <td>1</td>\n",
       "    </tr>\n",
       "    <tr>\n",
       "      <th>4</th>\n",
       "      <td>LG</td>\n",
       "      <td>0.276</td>\n",
       "      <td>5319</td>\n",
       "      <td>4521</td>\n",
       "      <td>669</td>\n",
       "      <td>1247</td>\n",
       "      <td>219</td>\n",
       "      <td>24</td>\n",
       "      <td>85</td>\n",
       "      <td>1769</td>\n",
       "      <td>...</td>\n",
       "      <td>110</td>\n",
       "      <td>55</td>\n",
       "      <td>33.3</td>\n",
       "      <td>154</td>\n",
       "      <td>96</td>\n",
       "      <td>58</td>\n",
       "      <td>62.3</td>\n",
       "      <td>0</td>\n",
       "      <td>0</td>\n",
       "      <td>6</td>\n",
       "    </tr>\n",
       "    <tr>\n",
       "      <th>...</th>\n",
       "      <td>...</td>\n",
       "      <td>...</td>\n",
       "      <td>...</td>\n",
       "      <td>...</td>\n",
       "      <td>...</td>\n",
       "      <td>...</td>\n",
       "      <td>...</td>\n",
       "      <td>...</td>\n",
       "      <td>...</td>\n",
       "      <td>...</td>\n",
       "      <td>...</td>\n",
       "      <td>...</td>\n",
       "      <td>...</td>\n",
       "      <td>...</td>\n",
       "      <td>...</td>\n",
       "      <td>...</td>\n",
       "      <td>...</td>\n",
       "      <td>...</td>\n",
       "      <td>...</td>\n",
       "      <td>...</td>\n",
       "      <td>...</td>\n",
       "    </tr>\n",
       "    <tr>\n",
       "      <th>179</th>\n",
       "      <td>NC</td>\n",
       "      <td>0.261</td>\n",
       "      <td>5532</td>\n",
       "      <td>4808</td>\n",
       "      <td>702</td>\n",
       "      <td>1254</td>\n",
       "      <td>203</td>\n",
       "      <td>17</td>\n",
       "      <td>170</td>\n",
       "      <td>2001</td>\n",
       "      <td>...</td>\n",
       "      <td>84</td>\n",
       "      <td>40</td>\n",
       "      <td>32.3</td>\n",
       "      <td>147</td>\n",
       "      <td>101</td>\n",
       "      <td>46</td>\n",
       "      <td>68.7</td>\n",
       "      <td>39</td>\n",
       "      <td>9</td>\n",
       "      <td>7</td>\n",
       "    </tr>\n",
       "    <tr>\n",
       "      <th>180</th>\n",
       "      <td>키움</td>\n",
       "      <td>0.259</td>\n",
       "      <td>5653</td>\n",
       "      <td>4874</td>\n",
       "      <td>722</td>\n",
       "      <td>1262</td>\n",
       "      <td>244</td>\n",
       "      <td>28</td>\n",
       "      <td>91</td>\n",
       "      <td>1835</td>\n",
       "      <td>...</td>\n",
       "      <td>85</td>\n",
       "      <td>35</td>\n",
       "      <td>29.2</td>\n",
       "      <td>123</td>\n",
       "      <td>97</td>\n",
       "      <td>26</td>\n",
       "      <td>78.9</td>\n",
       "      <td>39</td>\n",
       "      <td>3</td>\n",
       "      <td>5</td>\n",
       "    </tr>\n",
       "    <tr>\n",
       "      <th>181</th>\n",
       "      <td>LG</td>\n",
       "      <td>0.250</td>\n",
       "      <td>5533</td>\n",
       "      <td>4750</td>\n",
       "      <td>654</td>\n",
       "      <td>1188</td>\n",
       "      <td>210</td>\n",
       "      <td>11</td>\n",
       "      <td>110</td>\n",
       "      <td>1750</td>\n",
       "      <td>...</td>\n",
       "      <td>98</td>\n",
       "      <td>40</td>\n",
       "      <td>29.0</td>\n",
       "      <td>126</td>\n",
       "      <td>92</td>\n",
       "      <td>34</td>\n",
       "      <td>73.0</td>\n",
       "      <td>43</td>\n",
       "      <td>15</td>\n",
       "      <td>4</td>\n",
       "    </tr>\n",
       "    <tr>\n",
       "      <th>182</th>\n",
       "      <td>KIA</td>\n",
       "      <td>0.248</td>\n",
       "      <td>5577</td>\n",
       "      <td>4831</td>\n",
       "      <td>568</td>\n",
       "      <td>1198</td>\n",
       "      <td>183</td>\n",
       "      <td>21</td>\n",
       "      <td>66</td>\n",
       "      <td>1621</td>\n",
       "      <td>...</td>\n",
       "      <td>92</td>\n",
       "      <td>43</td>\n",
       "      <td>31.9</td>\n",
       "      <td>104</td>\n",
       "      <td>73</td>\n",
       "      <td>31</td>\n",
       "      <td>70.2</td>\n",
       "      <td>46</td>\n",
       "      <td>8</td>\n",
       "      <td>9</td>\n",
       "    </tr>\n",
       "    <tr>\n",
       "      <th>183</th>\n",
       "      <td>한화</td>\n",
       "      <td>0.237</td>\n",
       "      <td>5495</td>\n",
       "      <td>4685</td>\n",
       "      <td>599</td>\n",
       "      <td>1111</td>\n",
       "      <td>213</td>\n",
       "      <td>17</td>\n",
       "      <td>80</td>\n",
       "      <td>1598</td>\n",
       "      <td>...</td>\n",
       "      <td>111</td>\n",
       "      <td>41</td>\n",
       "      <td>27.0</td>\n",
       "      <td>165</td>\n",
       "      <td>109</td>\n",
       "      <td>56</td>\n",
       "      <td>66.1</td>\n",
       "      <td>59</td>\n",
       "      <td>14</td>\n",
       "      <td>10</td>\n",
       "    </tr>\n",
       "  </tbody>\n",
       "</table>\n",
       "<p>184 rows × 70 columns</p>\n",
       "</div>"
      ],
      "text/plain": [
       "    TEAM  AVG_x    PA    AB  R_x   H_x  2B_x  3B_x  HR_x    TB  ...  SB_x  \\\n",
       "0     롯데  0.280  5308  4521  718  1265   247    24   121  1923  ...    85   \n",
       "1    KIA  0.278  5189  4542  683  1263   221    17   142  1944  ...   100   \n",
       "2     삼성  0.277  5280  4553  739  1262   244    21   162  2034  ...    95   \n",
       "3     두산  0.276  5303  4583  732  1266   221    26   130  1929  ...   126   \n",
       "4     LG  0.276  5319  4521  669  1247   219    24    85  1769  ...   110   \n",
       "..   ...    ...   ...   ...  ...   ...   ...   ...   ...   ...  ...   ...   \n",
       "179   NC  0.261  5532  4808  702  1254   203    17   170  2001  ...    84   \n",
       "180   키움  0.259  5653  4874  722  1262   244    28    91  1835  ...    85   \n",
       "181   LG  0.250  5533  4750  654  1188   210    11   110  1750  ...    98   \n",
       "182  KIA  0.248  5577  4831  568  1198   183    21    66  1621  ...    92   \n",
       "183   한화  0.237  5495  4685  599  1111   213    17    80  1598  ...   111   \n",
       "\n",
       "     CS_x   CS%  SBA  SB_y  CS_y   SB%  OOB  PKO_y  RANK  \n",
       "0      58  40.6  159   106    53  66.7    0      0     8  \n",
       "1      53  34.6  155    92    63  59.4    0      0     5  \n",
       "2      48  33.6  117    73    44  62.4    0      0     2  \n",
       "3      56  30.8  166   132    34  79.5    0      0     1  \n",
       "4      55  33.3  154    96    58  62.3    0      0     6  \n",
       "..    ...   ...  ...   ...   ...   ...  ...    ...   ...  \n",
       "179    40  32.3  147   101    46  68.7   39      9     7  \n",
       "180    35  29.2  123    97    26  78.9   39      3     5  \n",
       "181    40  29.0  126    92    34  73.0   43     15     4  \n",
       "182    43  31.9  104    73    31  70.2   46      8     9  \n",
       "183    41  27.0  165   109    56  66.1   59     14    10  \n",
       "\n",
       "[184 rows x 70 columns]"
      ]
     },
     "execution_count": 3,
     "metadata": {},
     "output_type": "execute_result"
    }
   ],
   "source": [
    "# 상관관계 값이 해당 범위에 있는 컬럼만 추출\n",
    "year_record.rename(columns={'팀명':'TEAM', 'ERA_x':'ERA', '순위':'RANK'}, inplace=True)\n",
    "year_record"
   ]
  },
  {
   "cell_type": "code",
   "execution_count": 43,
   "id": "5ab9bc18",
   "metadata": {},
   "outputs": [
    {
     "name": "stderr",
     "output_type": "stream",
     "text": [
      "C:\\Users\\msi\\anaconda3\\envs\\study\\lib\\site-packages\\pandas\\core\\frame.py:5042: SettingWithCopyWarning: \n",
      "A value is trying to be set on a copy of a slice from a DataFrame\n",
      "\n",
      "See the caveats in the documentation: https://pandas.pydata.org/pandas-docs/stable/user_guide/indexing.html#returning-a-view-versus-a-copy\n",
      "  errors=errors,\n"
     ]
    },
    {
     "data": {
      "text/html": [
       "<div>\n",
       "<style scoped>\n",
       "    .dataframe tbody tr th:only-of-type {\n",
       "        vertical-align: middle;\n",
       "    }\n",
       "\n",
       "    .dataframe tbody tr th {\n",
       "        vertical-align: top;\n",
       "    }\n",
       "\n",
       "    .dataframe thead th {\n",
       "        text-align: right;\n",
       "    }\n",
       "</style>\n",
       "<table border=\"1\" class=\"dataframe\">\n",
       "  <thead>\n",
       "    <tr style=\"text-align: right;\">\n",
       "      <th></th>\n",
       "      <th>TEAM</th>\n",
       "      <th>AVG_x</th>\n",
       "      <th>R_x</th>\n",
       "      <th>RBI</th>\n",
       "      <th>SLG</th>\n",
       "      <th>OBP</th>\n",
       "      <th>OPS</th>\n",
       "      <th>RISP</th>\n",
       "      <th>ERA</th>\n",
       "      <th>SV</th>\n",
       "      <th>R_y</th>\n",
       "      <th>ER</th>\n",
       "      <th>WHIP</th>\n",
       "      <th>QS</th>\n",
       "      <th>AVG</th>\n",
       "      <th>WPCT</th>\n",
       "      <th>RANK</th>\n",
       "    </tr>\n",
       "  </thead>\n",
       "  <tbody>\n",
       "    <tr>\n",
       "      <th>0</th>\n",
       "      <td>롯데</td>\n",
       "      <td>0.280</td>\n",
       "      <td>718</td>\n",
       "      <td>671</td>\n",
       "      <td>0.425</td>\n",
       "      <td>0.365</td>\n",
       "      <td>0.790</td>\n",
       "      <td>0.288</td>\n",
       "      <td>4.68</td>\n",
       "      <td>33</td>\n",
       "      <td>670</td>\n",
       "      <td>609</td>\n",
       "      <td>1.50</td>\n",
       "      <td>43</td>\n",
       "      <td>0.276</td>\n",
       "      <td>0.457</td>\n",
       "      <td>8</td>\n",
       "    </tr>\n",
       "    <tr>\n",
       "      <th>1</th>\n",
       "      <td>KIA</td>\n",
       "      <td>0.278</td>\n",
       "      <td>683</td>\n",
       "      <td>637</td>\n",
       "      <td>0.428</td>\n",
       "      <td>0.353</td>\n",
       "      <td>0.781</td>\n",
       "      <td>0.272</td>\n",
       "      <td>5.01</td>\n",
       "      <td>28</td>\n",
       "      <td>727</td>\n",
       "      <td>656</td>\n",
       "      <td>1.47</td>\n",
       "      <td>35</td>\n",
       "      <td>0.272</td>\n",
       "      <td>0.469</td>\n",
       "      <td>5</td>\n",
       "    </tr>\n",
       "    <tr>\n",
       "      <th>2</th>\n",
       "      <td>삼성</td>\n",
       "      <td>0.277</td>\n",
       "      <td>739</td>\n",
       "      <td>695</td>\n",
       "      <td>0.447</td>\n",
       "      <td>0.360</td>\n",
       "      <td>0.807</td>\n",
       "      <td>0.267</td>\n",
       "      <td>4.39</td>\n",
       "      <td>43</td>\n",
       "      <td>644</td>\n",
       "      <td>579</td>\n",
       "      <td>1.48</td>\n",
       "      <td>51</td>\n",
       "      <td>0.265</td>\n",
       "      <td>0.609</td>\n",
       "      <td>2</td>\n",
       "    </tr>\n",
       "    <tr>\n",
       "      <th>3</th>\n",
       "      <td>두산</td>\n",
       "      <td>0.276</td>\n",
       "      <td>732</td>\n",
       "      <td>688</td>\n",
       "      <td>0.421</td>\n",
       "      <td>0.359</td>\n",
       "      <td>0.780</td>\n",
       "      <td>0.278</td>\n",
       "      <td>4.96</td>\n",
       "      <td>35</td>\n",
       "      <td>733</td>\n",
       "      <td>650</td>\n",
       "      <td>1.56</td>\n",
       "      <td>27</td>\n",
       "      <td>0.284</td>\n",
       "      <td>0.508</td>\n",
       "      <td>1</td>\n",
       "    </tr>\n",
       "    <tr>\n",
       "      <th>4</th>\n",
       "      <td>LG</td>\n",
       "      <td>0.276</td>\n",
       "      <td>669</td>\n",
       "      <td>630</td>\n",
       "      <td>0.391</td>\n",
       "      <td>0.363</td>\n",
       "      <td>0.754</td>\n",
       "      <td>0.280</td>\n",
       "      <td>5.09</td>\n",
       "      <td>26</td>\n",
       "      <td>732</td>\n",
       "      <td>670</td>\n",
       "      <td>1.60</td>\n",
       "      <td>43</td>\n",
       "      <td>0.277</td>\n",
       "      <td>0.464</td>\n",
       "      <td>6</td>\n",
       "    </tr>\n",
       "    <tr>\n",
       "      <th>...</th>\n",
       "      <td>...</td>\n",
       "      <td>...</td>\n",
       "      <td>...</td>\n",
       "      <td>...</td>\n",
       "      <td>...</td>\n",
       "      <td>...</td>\n",
       "      <td>...</td>\n",
       "      <td>...</td>\n",
       "      <td>...</td>\n",
       "      <td>...</td>\n",
       "      <td>...</td>\n",
       "      <td>...</td>\n",
       "      <td>...</td>\n",
       "      <td>...</td>\n",
       "      <td>...</td>\n",
       "      <td>...</td>\n",
       "      <td>...</td>\n",
       "    </tr>\n",
       "    <tr>\n",
       "      <th>179</th>\n",
       "      <td>NC</td>\n",
       "      <td>0.261</td>\n",
       "      <td>702</td>\n",
       "      <td>670</td>\n",
       "      <td>0.416</td>\n",
       "      <td>0.343</td>\n",
       "      <td>0.759</td>\n",
       "      <td>0.260</td>\n",
       "      <td>4.54</td>\n",
       "      <td>33</td>\n",
       "      <td>697</td>\n",
       "      <td>634</td>\n",
       "      <td>1.48</td>\n",
       "      <td>53</td>\n",
       "      <td>0.260</td>\n",
       "      <td>0.496</td>\n",
       "      <td>7</td>\n",
       "    </tr>\n",
       "    <tr>\n",
       "      <th>180</th>\n",
       "      <td>키움</td>\n",
       "      <td>0.259</td>\n",
       "      <td>722</td>\n",
       "      <td>671</td>\n",
       "      <td>0.376</td>\n",
       "      <td>0.347</td>\n",
       "      <td>0.723</td>\n",
       "      <td>0.279</td>\n",
       "      <td>4.31</td>\n",
       "      <td>30</td>\n",
       "      <td>700</td>\n",
       "      <td>605</td>\n",
       "      <td>1.46</td>\n",
       "      <td>57</td>\n",
       "      <td>0.264</td>\n",
       "      <td>0.511</td>\n",
       "      <td>5</td>\n",
       "    </tr>\n",
       "    <tr>\n",
       "      <th>181</th>\n",
       "      <td>LG</td>\n",
       "      <td>0.250</td>\n",
       "      <td>654</td>\n",
       "      <td>621</td>\n",
       "      <td>0.368</td>\n",
       "      <td>0.342</td>\n",
       "      <td>0.710</td>\n",
       "      <td>0.253</td>\n",
       "      <td>3.57</td>\n",
       "      <td>32</td>\n",
       "      <td>561</td>\n",
       "      <td>505</td>\n",
       "      <td>1.31</td>\n",
       "      <td>50</td>\n",
       "      <td>0.238</td>\n",
       "      <td>0.554</td>\n",
       "      <td>4</td>\n",
       "    </tr>\n",
       "    <tr>\n",
       "      <th>182</th>\n",
       "      <td>KIA</td>\n",
       "      <td>0.248</td>\n",
       "      <td>568</td>\n",
       "      <td>546</td>\n",
       "      <td>0.336</td>\n",
       "      <td>0.337</td>\n",
       "      <td>0.673</td>\n",
       "      <td>0.263</td>\n",
       "      <td>4.89</td>\n",
       "      <td>36</td>\n",
       "      <td>752</td>\n",
       "      <td>690</td>\n",
       "      <td>1.50</td>\n",
       "      <td>39</td>\n",
       "      <td>0.265</td>\n",
       "      <td>0.433</td>\n",
       "      <td>9</td>\n",
       "    </tr>\n",
       "    <tr>\n",
       "      <th>183</th>\n",
       "      <td>한화</td>\n",
       "      <td>0.237</td>\n",
       "      <td>599</td>\n",
       "      <td>554</td>\n",
       "      <td>0.341</td>\n",
       "      <td>0.334</td>\n",
       "      <td>0.675</td>\n",
       "      <td>0.248</td>\n",
       "      <td>4.65</td>\n",
       "      <td>21</td>\n",
       "      <td>739</td>\n",
       "      <td>650</td>\n",
       "      <td>1.49</td>\n",
       "      <td>41</td>\n",
       "      <td>0.252</td>\n",
       "      <td>0.371</td>\n",
       "      <td>10</td>\n",
       "    </tr>\n",
       "  </tbody>\n",
       "</table>\n",
       "<p>184 rows × 17 columns</p>\n",
       "</div>"
      ],
      "text/plain": [
       "    TEAM  AVG_x  R_x  RBI    SLG    OBP    OPS   RISP   ERA  SV  R_y   ER  \\\n",
       "0     롯데  0.280  718  671  0.425  0.365  0.790  0.288  4.68  33  670  609   \n",
       "1    KIA  0.278  683  637  0.428  0.353  0.781  0.272  5.01  28  727  656   \n",
       "2     삼성  0.277  739  695  0.447  0.360  0.807  0.267  4.39  43  644  579   \n",
       "3     두산  0.276  732  688  0.421  0.359  0.780  0.278  4.96  35  733  650   \n",
       "4     LG  0.276  669  630  0.391  0.363  0.754  0.280  5.09  26  732  670   \n",
       "..   ...    ...  ...  ...    ...    ...    ...    ...   ...  ..  ...  ...   \n",
       "179   NC  0.261  702  670  0.416  0.343  0.759  0.260  4.54  33  697  634   \n",
       "180   키움  0.259  722  671  0.376  0.347  0.723  0.279  4.31  30  700  605   \n",
       "181   LG  0.250  654  621  0.368  0.342  0.710  0.253  3.57  32  561  505   \n",
       "182  KIA  0.248  568  546  0.336  0.337  0.673  0.263  4.89  36  752  690   \n",
       "183   한화  0.237  599  554  0.341  0.334  0.675  0.248  4.65  21  739  650   \n",
       "\n",
       "     WHIP  QS    AVG   WPCT  RANK  \n",
       "0    1.50  43  0.276  0.457     8  \n",
       "1    1.47  35  0.272  0.469     5  \n",
       "2    1.48  51  0.265  0.609     2  \n",
       "3    1.56  27  0.284  0.508     1  \n",
       "4    1.60  43  0.277  0.464     6  \n",
       "..    ...  ..    ...    ...   ...  \n",
       "179  1.48  53  0.260  0.496     7  \n",
       "180  1.46  57  0.264  0.511     5  \n",
       "181  1.31  50  0.238  0.554     4  \n",
       "182  1.50  39  0.265  0.433     9  \n",
       "183  1.49  41  0.252  0.371    10  \n",
       "\n",
       "[184 rows x 17 columns]"
      ]
     },
     "execution_count": 43,
     "metadata": {},
     "output_type": "execute_result"
    }
   ],
   "source": [
    "# 모든 컬럼을 영어로 변경\n",
    "df = year_record[feature]\n",
    "df.rename(columns={'팀명':'TEAM', 'ERA_x':'ERA', '순위':'RANK'}, inplace=True)\n",
    "df"
   ]
  },
  {
   "cell_type": "code",
   "execution_count": 44,
   "id": "3ae86a11",
   "metadata": {},
   "outputs": [],
   "source": [
    "# train, test set\n",
    "from sklearn.model_selection import train_test_split\n",
    "\n",
    "data = df[['AVG_x', 'R_x', 'RBI', 'SLG', 'OBP', 'OPS', 'RISP', 'ERA', 'SV', 'R_y', 'ER', 'WHIP', 'QS', 'AVG']]\n",
    "label = df['WPCT']\n",
    "\n",
    "x_train, x_test, y_train, y_test = train_test_split(data, label, test_size=0.2, random_state=34)"
   ]
  },
  {
   "cell_type": "code",
   "execution_count": 45,
   "id": "e4d39151",
   "metadata": {},
   "outputs": [
    {
     "name": "stdout",
     "output_type": "stream",
     "text": [
      "(147, 14) (147,)\n",
      "(37, 14) (37,)\n"
     ]
    },
    {
     "data": {
      "text/html": [
       "<div>\n",
       "<style scoped>\n",
       "    .dataframe tbody tr th:only-of-type {\n",
       "        vertical-align: middle;\n",
       "    }\n",
       "\n",
       "    .dataframe tbody tr th {\n",
       "        vertical-align: top;\n",
       "    }\n",
       "\n",
       "    .dataframe thead th {\n",
       "        text-align: right;\n",
       "    }\n",
       "</style>\n",
       "<table border=\"1\" class=\"dataframe\">\n",
       "  <thead>\n",
       "    <tr style=\"text-align: right;\">\n",
       "      <th></th>\n",
       "      <th>AVG_x</th>\n",
       "      <th>R_x</th>\n",
       "      <th>RBI</th>\n",
       "      <th>SLG</th>\n",
       "      <th>OBP</th>\n",
       "      <th>OPS</th>\n",
       "      <th>RISP</th>\n",
       "      <th>ERA</th>\n",
       "      <th>SV</th>\n",
       "      <th>R_y</th>\n",
       "      <th>ER</th>\n",
       "      <th>WHIP</th>\n",
       "      <th>QS</th>\n",
       "      <th>AVG</th>\n",
       "    </tr>\n",
       "  </thead>\n",
       "  <tbody>\n",
       "    <tr>\n",
       "      <th>110</th>\n",
       "      <td>0.287</td>\n",
       "      <td>716</td>\n",
       "      <td>685</td>\n",
       "      <td>0.436</td>\n",
       "      <td>0.369</td>\n",
       "      <td>0.805</td>\n",
       "      <td>0.283</td>\n",
       "      <td>5.19</td>\n",
       "      <td>28</td>\n",
       "      <td>719</td>\n",
       "      <td>654</td>\n",
       "      <td>1.57</td>\n",
       "      <td>46</td>\n",
       "      <td>0.295</td>\n",
       "    </tr>\n",
       "    <tr>\n",
       "      <th>46</th>\n",
       "      <td>0.250</td>\n",
       "      <td>488</td>\n",
       "      <td>463</td>\n",
       "      <td>0.357</td>\n",
       "      <td>0.327</td>\n",
       "      <td>0.684</td>\n",
       "      <td>0.268</td>\n",
       "      <td>3.86</td>\n",
       "      <td>28</td>\n",
       "      <td>541</td>\n",
       "      <td>480</td>\n",
       "      <td>1.37</td>\n",
       "      <td>64</td>\n",
       "      <td>0.268</td>\n",
       "    </tr>\n",
       "    <tr>\n",
       "      <th>60</th>\n",
       "      <td>0.260</td>\n",
       "      <td>503</td>\n",
       "      <td>465</td>\n",
       "      <td>0.352</td>\n",
       "      <td>0.336</td>\n",
       "      <td>0.688</td>\n",
       "      <td>0.251</td>\n",
       "      <td>4.08</td>\n",
       "      <td>29</td>\n",
       "      <td>555</td>\n",
       "      <td>510</td>\n",
       "      <td>1.38</td>\n",
       "      <td>58</td>\n",
       "      <td>0.256</td>\n",
       "    </tr>\n",
       "    <tr>\n",
       "      <th>82</th>\n",
       "      <td>0.269</td>\n",
       "      <td>627</td>\n",
       "      <td>597</td>\n",
       "      <td>0.395</td>\n",
       "      <td>0.357</td>\n",
       "      <td>0.752</td>\n",
       "      <td>0.280</td>\n",
       "      <td>4.10</td>\n",
       "      <td>29</td>\n",
       "      <td>580</td>\n",
       "      <td>530</td>\n",
       "      <td>1.35</td>\n",
       "      <td>59</td>\n",
       "      <td>0.257</td>\n",
       "    </tr>\n",
       "    <tr>\n",
       "      <th>97</th>\n",
       "      <td>0.283</td>\n",
       "      <td>669</td>\n",
       "      <td>624</td>\n",
       "      <td>0.416</td>\n",
       "      <td>0.359</td>\n",
       "      <td>0.775</td>\n",
       "      <td>0.298</td>\n",
       "      <td>3.98</td>\n",
       "      <td>31</td>\n",
       "      <td>545</td>\n",
       "      <td>507</td>\n",
       "      <td>1.33</td>\n",
       "      <td>70</td>\n",
       "      <td>0.259</td>\n",
       "    </tr>\n",
       "    <tr>\n",
       "      <th>...</th>\n",
       "      <td>...</td>\n",
       "      <td>...</td>\n",
       "      <td>...</td>\n",
       "      <td>...</td>\n",
       "      <td>...</td>\n",
       "      <td>...</td>\n",
       "      <td>...</td>\n",
       "      <td>...</td>\n",
       "      <td>...</td>\n",
       "      <td>...</td>\n",
       "      <td>...</td>\n",
       "      <td>...</td>\n",
       "      <td>...</td>\n",
       "      <td>...</td>\n",
       "    </tr>\n",
       "    <tr>\n",
       "      <th>68</th>\n",
       "      <td>0.275</td>\n",
       "      <td>685</td>\n",
       "      <td>650</td>\n",
       "      <td>0.432</td>\n",
       "      <td>0.364</td>\n",
       "      <td>0.796</td>\n",
       "      <td>0.275</td>\n",
       "      <td>4.98</td>\n",
       "      <td>32</td>\n",
       "      <td>700</td>\n",
       "      <td>644</td>\n",
       "      <td>1.58</td>\n",
       "      <td>45</td>\n",
       "      <td>0.278</td>\n",
       "    </tr>\n",
       "    <tr>\n",
       "      <th>85</th>\n",
       "      <td>0.259</td>\n",
       "      <td>625</td>\n",
       "      <td>585</td>\n",
       "      <td>0.376</td>\n",
       "      <td>0.343</td>\n",
       "      <td>0.719</td>\n",
       "      <td>0.262</td>\n",
       "      <td>3.35</td>\n",
       "      <td>48</td>\n",
       "      <td>513</td>\n",
       "      <td>445</td>\n",
       "      <td>1.33</td>\n",
       "      <td>65</td>\n",
       "      <td>0.263</td>\n",
       "    </tr>\n",
       "    <tr>\n",
       "      <th>105</th>\n",
       "      <td>0.301</td>\n",
       "      <td>812</td>\n",
       "      <td>763</td>\n",
       "      <td>0.473</td>\n",
       "      <td>0.377</td>\n",
       "      <td>0.850</td>\n",
       "      <td>0.327</td>\n",
       "      <td>4.52</td>\n",
       "      <td>35</td>\n",
       "      <td>621</td>\n",
       "      <td>575</td>\n",
       "      <td>1.41</td>\n",
       "      <td>63</td>\n",
       "      <td>0.275</td>\n",
       "    </tr>\n",
       "    <tr>\n",
       "      <th>122</th>\n",
       "      <td>0.269</td>\n",
       "      <td>653</td>\n",
       "      <td>601</td>\n",
       "      <td>0.399</td>\n",
       "      <td>0.339</td>\n",
       "      <td>0.738</td>\n",
       "      <td>0.245</td>\n",
       "      <td>4.62</td>\n",
       "      <td>25</td>\n",
       "      <td>721</td>\n",
       "      <td>657</td>\n",
       "      <td>1.44</td>\n",
       "      <td>57</td>\n",
       "      <td>0.277</td>\n",
       "    </tr>\n",
       "    <tr>\n",
       "      <th>161</th>\n",
       "      <td>0.256</td>\n",
       "      <td>607</td>\n",
       "      <td>562</td>\n",
       "      <td>0.362</td>\n",
       "      <td>0.324</td>\n",
       "      <td>0.686</td>\n",
       "      <td>0.255</td>\n",
       "      <td>4.80</td>\n",
       "      <td>28</td>\n",
       "      <td>737</td>\n",
       "      <td>677</td>\n",
       "      <td>1.52</td>\n",
       "      <td>48</td>\n",
       "      <td>0.283</td>\n",
       "    </tr>\n",
       "  </tbody>\n",
       "</table>\n",
       "<p>147 rows × 14 columns</p>\n",
       "</div>"
      ],
      "text/plain": [
       "     AVG_x  R_x  RBI    SLG    OBP    OPS   RISP   ERA  SV  R_y   ER  WHIP  \\\n",
       "110  0.287  716  685  0.436  0.369  0.805  0.283  5.19  28  719  654  1.57   \n",
       "46   0.250  488  463  0.357  0.327  0.684  0.268  3.86  28  541  480  1.37   \n",
       "60   0.260  503  465  0.352  0.336  0.688  0.251  4.08  29  555  510  1.38   \n",
       "82   0.269  627  597  0.395  0.357  0.752  0.280  4.10  29  580  530  1.35   \n",
       "97   0.283  669  624  0.416  0.359  0.775  0.298  3.98  31  545  507  1.33   \n",
       "..     ...  ...  ...    ...    ...    ...    ...   ...  ..  ...  ...   ...   \n",
       "68   0.275  685  650  0.432  0.364  0.796  0.275  4.98  32  700  644  1.58   \n",
       "85   0.259  625  585  0.376  0.343  0.719  0.262  3.35  48  513  445  1.33   \n",
       "105  0.301  812  763  0.473  0.377  0.850  0.327  4.52  35  621  575  1.41   \n",
       "122  0.269  653  601  0.399  0.339  0.738  0.245  4.62  25  721  657  1.44   \n",
       "161  0.256  607  562  0.362  0.324  0.686  0.255  4.80  28  737  677  1.52   \n",
       "\n",
       "     QS    AVG  \n",
       "110  46  0.295  \n",
       "46   64  0.268  \n",
       "60   58  0.256  \n",
       "82   59  0.257  \n",
       "97   70  0.259  \n",
       "..   ..    ...  \n",
       "68   45  0.278  \n",
       "85   65  0.263  \n",
       "105  63  0.275  \n",
       "122  57  0.277  \n",
       "161  48  0.283  \n",
       "\n",
       "[147 rows x 14 columns]"
      ]
     },
     "execution_count": 45,
     "metadata": {},
     "output_type": "execute_result"
    }
   ],
   "source": [
    "print(x_train.shape, y_train.shape)\n",
    "print(x_test.shape, y_test.shape)\n",
    "x_train"
   ]
  },
  {
   "cell_type": "code",
   "execution_count": 47,
   "id": "10b2b4ac",
   "metadata": {},
   "outputs": [
    {
     "data": {
      "text/html": [
       "<table class=\"simpletable\">\n",
       "<caption>OLS Regression Results</caption>\n",
       "<tr>\n",
       "  <th>Dep. Variable:</th>          <td>WPCT</td>       <th>  R-squared:         </th> <td>   0.930</td>\n",
       "</tr>\n",
       "<tr>\n",
       "  <th>Model:</th>                   <td>OLS</td>       <th>  Adj. R-squared:    </th> <td>   0.923</td>\n",
       "</tr>\n",
       "<tr>\n",
       "  <th>Method:</th>             <td>Least Squares</td>  <th>  F-statistic:       </th> <td>   135.9</td>\n",
       "</tr>\n",
       "<tr>\n",
       "  <th>Date:</th>             <td>Tue, 07 Dec 2021</td> <th>  Prob (F-statistic):</th> <td>5.17e-70</td>\n",
       "</tr>\n",
       "<tr>\n",
       "  <th>Time:</th>                 <td>04:09:07</td>     <th>  Log-Likelihood:    </th> <td>  361.68</td>\n",
       "</tr>\n",
       "<tr>\n",
       "  <th>No. Observations:</th>      <td>   147</td>      <th>  AIC:               </th> <td>  -695.4</td>\n",
       "</tr>\n",
       "<tr>\n",
       "  <th>Df Residuals:</th>          <td>   133</td>      <th>  BIC:               </th> <td>  -653.5</td>\n",
       "</tr>\n",
       "<tr>\n",
       "  <th>Df Model:</th>              <td>    13</td>      <th>                     </th>     <td> </td>   \n",
       "</tr>\n",
       "<tr>\n",
       "  <th>Covariance Type:</th>      <td>nonrobust</td>    <th>                     </th>     <td> </td>   \n",
       "</tr>\n",
       "</table>\n",
       "<table class=\"simpletable\">\n",
       "<tr>\n",
       "      <td></td>         <th>coef</th>     <th>std err</th>      <th>t</th>      <th>P>|t|</th>  <th>[0.025</th>    <th>0.975]</th>  \n",
       "</tr>\n",
       "<tr>\n",
       "  <th>Intercept</th> <td>    0.2247</td> <td>    0.103</td> <td>    2.182</td> <td> 0.031</td> <td>    0.021</td> <td>    0.428</td>\n",
       "</tr>\n",
       "<tr>\n",
       "  <th>AVG_x</th>     <td>   -0.1995</td> <td>    0.358</td> <td>   -0.557</td> <td> 0.579</td> <td>   -0.908</td> <td>    0.509</td>\n",
       "</tr>\n",
       "<tr>\n",
       "  <th>R_x</th>       <td>    0.0004</td> <td>    0.000</td> <td>    1.624</td> <td> 0.107</td> <td>-8.78e-05</td> <td>    0.001</td>\n",
       "</tr>\n",
       "<tr>\n",
       "  <th>RBI</th>       <td>-8.813e-06</td> <td>    0.000</td> <td>   -0.033</td> <td> 0.974</td> <td>   -0.001</td> <td>    0.001</td>\n",
       "</tr>\n",
       "<tr>\n",
       "  <th>SLG</th>       <td>   -0.0861</td> <td>    0.125</td> <td>   -0.687</td> <td> 0.494</td> <td>   -0.334</td> <td>    0.162</td>\n",
       "</tr>\n",
       "<tr>\n",
       "  <th>OBP</th>       <td>    0.4788</td> <td>    0.208</td> <td>    2.302</td> <td> 0.023</td> <td>    0.067</td> <td>    0.890</td>\n",
       "</tr>\n",
       "<tr>\n",
       "  <th>OPS</th>       <td>    0.3927</td> <td>    0.133</td> <td>    2.958</td> <td> 0.004</td> <td>    0.130</td> <td>    0.655</td>\n",
       "</tr>\n",
       "<tr>\n",
       "  <th>RISP</th>      <td>    0.1499</td> <td>    0.202</td> <td>    0.741</td> <td> 0.460</td> <td>   -0.250</td> <td>    0.550</td>\n",
       "</tr>\n",
       "<tr>\n",
       "  <th>ERA</th>       <td>   -0.0397</td> <td>    0.020</td> <td>   -1.945</td> <td> 0.054</td> <td>   -0.080</td> <td>    0.001</td>\n",
       "</tr>\n",
       "<tr>\n",
       "  <th>SV</th>        <td>    0.0023</td> <td>    0.000</td> <td>    6.728</td> <td> 0.000</td> <td>    0.002</td> <td>    0.003</td>\n",
       "</tr>\n",
       "<tr>\n",
       "  <th>R_y</th>       <td>   -0.0004</td> <td>    0.000</td> <td>   -2.551</td> <td> 0.012</td> <td>   -0.001</td> <td>   -0.000</td>\n",
       "</tr>\n",
       "<tr>\n",
       "  <th>ER</th>        <td>    0.0002</td> <td>    0.000</td> <td>    0.819</td> <td> 0.414</td> <td>   -0.000</td> <td>    0.001</td>\n",
       "</tr>\n",
       "<tr>\n",
       "  <th>WHIP</th>      <td>    0.0339</td> <td>    0.056</td> <td>    0.609</td> <td> 0.543</td> <td>   -0.076</td> <td>    0.144</td>\n",
       "</tr>\n",
       "<tr>\n",
       "  <th>QS</th>        <td>   -0.0001</td> <td>    0.000</td> <td>   -0.577</td> <td> 0.565</td> <td>   -0.001</td> <td>    0.000</td>\n",
       "</tr>\n",
       "<tr>\n",
       "  <th>AVG</th>       <td>   -0.5711</td> <td>    0.313</td> <td>   -1.824</td> <td> 0.070</td> <td>   -1.190</td> <td>    0.048</td>\n",
       "</tr>\n",
       "</table>\n",
       "<table class=\"simpletable\">\n",
       "<tr>\n",
       "  <th>Omnibus:</th>       <td> 5.840</td> <th>  Durbin-Watson:     </th> <td>   2.180</td>\n",
       "</tr>\n",
       "<tr>\n",
       "  <th>Prob(Omnibus):</th> <td> 0.054</td> <th>  Jarque-Bera (JB):  </th> <td>   5.399</td>\n",
       "</tr>\n",
       "<tr>\n",
       "  <th>Skew:</th>          <td>-0.446</td> <th>  Prob(JB):          </th> <td>  0.0672</td>\n",
       "</tr>\n",
       "<tr>\n",
       "  <th>Kurtosis:</th>      <td> 3.292</td> <th>  Cond. No.          </th> <td>4.65e+18</td>\n",
       "</tr>\n",
       "</table><br/><br/>Notes:<br/>[1] Standard Errors assume that the covariance matrix of the errors is correctly specified.<br/>[2] The smallest eigenvalue is 1.13e-29. This might indicate that there are<br/>strong multicollinearity problems or that the design matrix is singular."
      ],
      "text/plain": [
       "<class 'statsmodels.iolib.summary.Summary'>\n",
       "\"\"\"\n",
       "                            OLS Regression Results                            \n",
       "==============================================================================\n",
       "Dep. Variable:                   WPCT   R-squared:                       0.930\n",
       "Model:                            OLS   Adj. R-squared:                  0.923\n",
       "Method:                 Least Squares   F-statistic:                     135.9\n",
       "Date:                Tue, 07 Dec 2021   Prob (F-statistic):           5.17e-70\n",
       "Time:                        04:09:07   Log-Likelihood:                 361.68\n",
       "No. Observations:                 147   AIC:                            -695.4\n",
       "Df Residuals:                     133   BIC:                            -653.5\n",
       "Df Model:                          13                                         \n",
       "Covariance Type:            nonrobust                                         \n",
       "==============================================================================\n",
       "                 coef    std err          t      P>|t|      [0.025      0.975]\n",
       "------------------------------------------------------------------------------\n",
       "Intercept      0.2247      0.103      2.182      0.031       0.021       0.428\n",
       "AVG_x         -0.1995      0.358     -0.557      0.579      -0.908       0.509\n",
       "R_x            0.0004      0.000      1.624      0.107   -8.78e-05       0.001\n",
       "RBI        -8.813e-06      0.000     -0.033      0.974      -0.001       0.001\n",
       "SLG           -0.0861      0.125     -0.687      0.494      -0.334       0.162\n",
       "OBP            0.4788      0.208      2.302      0.023       0.067       0.890\n",
       "OPS            0.3927      0.133      2.958      0.004       0.130       0.655\n",
       "RISP           0.1499      0.202      0.741      0.460      -0.250       0.550\n",
       "ERA           -0.0397      0.020     -1.945      0.054      -0.080       0.001\n",
       "SV             0.0023      0.000      6.728      0.000       0.002       0.003\n",
       "R_y           -0.0004      0.000     -2.551      0.012      -0.001      -0.000\n",
       "ER             0.0002      0.000      0.819      0.414      -0.000       0.001\n",
       "WHIP           0.0339      0.056      0.609      0.543      -0.076       0.144\n",
       "QS            -0.0001      0.000     -0.577      0.565      -0.001       0.000\n",
       "AVG           -0.5711      0.313     -1.824      0.070      -1.190       0.048\n",
       "==============================================================================\n",
       "Omnibus:                        5.840   Durbin-Watson:                   2.180\n",
       "Prob(Omnibus):                  0.054   Jarque-Bera (JB):                5.399\n",
       "Skew:                          -0.446   Prob(JB):                       0.0672\n",
       "Kurtosis:                       3.292   Cond. No.                     4.65e+18\n",
       "==============================================================================\n",
       "\n",
       "Notes:\n",
       "[1] Standard Errors assume that the covariance matrix of the errors is correctly specified.\n",
       "[2] The smallest eigenvalue is 1.13e-29. This might indicate that there are\n",
       "strong multicollinearity problems or that the design matrix is singular.\n",
       "\"\"\""
      ]
     },
     "execution_count": 47,
     "metadata": {},
     "output_type": "execute_result"
    }
   ],
   "source": [
    "# 회귀 분석 / Model : OLS\n",
    "from statsmodels.formula.api import ols\n",
    "\n",
    "df_train = pd.concat([x_train, y_train], axis=1)\n",
    "model = ols('WPCT ~ AVG_x + R_x + RBI + SLG + OBP + OPS + RISP + ERA + SV + R_y + ER + WHIP + QS + AVG', df_train)\n",
    "res = model.fit()\n",
    "res.summary()"
   ]
  },
  {
   "cell_type": "code",
   "execution_count": 50,
   "id": "63ada8df",
   "metadata": {},
   "outputs": [
    {
     "name": "stderr",
     "output_type": "stream",
     "text": [
      "C:\\Users\\msi\\anaconda3\\envs\\study\\lib\\site-packages\\statsmodels\\stats\\outliers_influence.py:195: RuntimeWarning: divide by zero encountered in double_scalars\n",
      "  vif = 1. / (1. - r_squared_i)\n"
     ]
    },
    {
     "data": {
      "text/html": [
       "<div>\n",
       "<style scoped>\n",
       "    .dataframe tbody tr th:only-of-type {\n",
       "        vertical-align: middle;\n",
       "    }\n",
       "\n",
       "    .dataframe tbody tr th {\n",
       "        vertical-align: top;\n",
       "    }\n",
       "\n",
       "    .dataframe thead th {\n",
       "        text-align: right;\n",
       "    }\n",
       "</style>\n",
       "<table border=\"1\" class=\"dataframe\">\n",
       "  <thead>\n",
       "    <tr style=\"text-align: right;\">\n",
       "      <th></th>\n",
       "      <th>컬럼</th>\n",
       "      <th>VIF</th>\n",
       "    </tr>\n",
       "  </thead>\n",
       "  <tbody>\n",
       "    <tr>\n",
       "      <th>0</th>\n",
       "      <td>AVG_x</td>\n",
       "      <td>8.530101</td>\n",
       "    </tr>\n",
       "    <tr>\n",
       "      <th>1</th>\n",
       "      <td>R_x</td>\n",
       "      <td>227.514813</td>\n",
       "    </tr>\n",
       "    <tr>\n",
       "      <th>2</th>\n",
       "      <td>RBI</td>\n",
       "      <td>242.186138</td>\n",
       "    </tr>\n",
       "    <tr>\n",
       "      <th>3</th>\n",
       "      <td>SLG</td>\n",
       "      <td>inf</td>\n",
       "    </tr>\n",
       "    <tr>\n",
       "      <th>4</th>\n",
       "      <td>OBP</td>\n",
       "      <td>inf</td>\n",
       "    </tr>\n",
       "    <tr>\n",
       "      <th>5</th>\n",
       "      <td>OPS</td>\n",
       "      <td>inf</td>\n",
       "    </tr>\n",
       "    <tr>\n",
       "      <th>6</th>\n",
       "      <td>RISP</td>\n",
       "      <td>4.626298</td>\n",
       "    </tr>\n",
       "    <tr>\n",
       "      <th>7</th>\n",
       "      <td>ERA</td>\n",
       "      <td>53.667501</td>\n",
       "    </tr>\n",
       "    <tr>\n",
       "      <th>8</th>\n",
       "      <td>SV</td>\n",
       "      <td>1.759803</td>\n",
       "    </tr>\n",
       "    <tr>\n",
       "      <th>9</th>\n",
       "      <td>R_y</td>\n",
       "      <td>110.208692</td>\n",
       "    </tr>\n",
       "    <tr>\n",
       "      <th>10</th>\n",
       "      <td>ER</td>\n",
       "      <td>160.188306</td>\n",
       "    </tr>\n",
       "    <tr>\n",
       "      <th>11</th>\n",
       "      <td>WHIP</td>\n",
       "      <td>9.821449</td>\n",
       "    </tr>\n",
       "    <tr>\n",
       "      <th>12</th>\n",
       "      <td>QS</td>\n",
       "      <td>2.049666</td>\n",
       "    </tr>\n",
       "    <tr>\n",
       "      <th>13</th>\n",
       "      <td>AVG</td>\n",
       "      <td>6.654109</td>\n",
       "    </tr>\n",
       "  </tbody>\n",
       "</table>\n",
       "</div>"
      ],
      "text/plain": [
       "       컬럼         VIF\n",
       "0   AVG_x    8.530101\n",
       "1     R_x  227.514813\n",
       "2     RBI  242.186138\n",
       "3     SLG         inf\n",
       "4     OBP         inf\n",
       "5     OPS         inf\n",
       "6    RISP    4.626298\n",
       "7     ERA   53.667501\n",
       "8      SV    1.759803\n",
       "9     R_y  110.208692\n",
       "10     ER  160.188306\n",
       "11   WHIP    9.821449\n",
       "12     QS    2.049666\n",
       "13    AVG    6.654109"
      ]
     },
     "execution_count": 50,
     "metadata": {},
     "output_type": "execute_result"
    }
   ],
   "source": [
    "# 다중공산성 확인(VIF)\n",
    "from statsmodels.stats.outliers_influence import variance_inflation_factor\n",
    "\n",
    "pd.DataFrame({'컬럼':column, 'VIF':variance_inflation_factor(model.exog, i)}\n",
    "            for i, column in enumerate(model.exog_names)\n",
    "            if column != 'Intercept')"
   ]
  },
  {
   "cell_type": "code",
   "execution_count": 48,
   "id": "706cc05a",
   "metadata": {},
   "outputs": [
    {
     "data": {
      "text/html": [
       "<table class=\"simpletable\">\n",
       "<caption>OLS Regression Results</caption>\n",
       "<tr>\n",
       "  <th>Dep. Variable:</th>          <td>WPCT</td>       <th>  R-squared:         </th> <td>   0.930</td>\n",
       "</tr>\n",
       "<tr>\n",
       "  <th>Model:</th>                   <td>OLS</td>       <th>  Adj. R-squared:    </th> <td>   0.923</td>\n",
       "</tr>\n",
       "<tr>\n",
       "  <th>Method:</th>             <td>Least Squares</td>  <th>  F-statistic:       </th> <td>   135.9</td>\n",
       "</tr>\n",
       "<tr>\n",
       "  <th>Date:</th>             <td>Sun, 05 Dec 2021</td> <th>  Prob (F-statistic):</th> <td>5.17e-70</td>\n",
       "</tr>\n",
       "<tr>\n",
       "  <th>Time:</th>                 <td>01:18:46</td>     <th>  Log-Likelihood:    </th> <td>  361.68</td>\n",
       "</tr>\n",
       "<tr>\n",
       "  <th>No. Observations:</th>      <td>   147</td>      <th>  AIC:               </th> <td>  -695.4</td>\n",
       "</tr>\n",
       "<tr>\n",
       "  <th>Df Residuals:</th>          <td>   133</td>      <th>  BIC:               </th> <td>  -653.5</td>\n",
       "</tr>\n",
       "<tr>\n",
       "  <th>Df Model:</th>              <td>    13</td>      <th>                     </th>     <td> </td>   \n",
       "</tr>\n",
       "<tr>\n",
       "  <th>Covariance Type:</th>      <td>nonrobust</td>    <th>                     </th>     <td> </td>   \n",
       "</tr>\n",
       "</table>\n",
       "<table class=\"simpletable\">\n",
       "<tr>\n",
       "        <td></td>          <th>coef</th>     <th>std err</th>      <th>t</th>      <th>P>|t|</th>  <th>[0.025</th>    <th>0.975]</th>  \n",
       "</tr>\n",
       "<tr>\n",
       "  <th>Intercept</th>    <td>    0.4981</td> <td>    0.002</td> <td>  277.973</td> <td> 0.000</td> <td>    0.495</td> <td>    0.502</td>\n",
       "</tr>\n",
       "<tr>\n",
       "  <th>scale(AVG_x)</th> <td>   -0.0029</td> <td>    0.005</td> <td>   -0.557</td> <td> 0.579</td> <td>   -0.013</td> <td>    0.007</td>\n",
       "</tr>\n",
       "<tr>\n",
       "  <th>scale(R_x)</th>   <td>    0.0439</td> <td>    0.027</td> <td>    1.624</td> <td> 0.107</td> <td>   -0.010</td> <td>    0.097</td>\n",
       "</tr>\n",
       "<tr>\n",
       "  <th>scale(RBI)</th>   <td>   -0.0009</td> <td>    0.028</td> <td>   -0.033</td> <td> 0.974</td> <td>   -0.056</td> <td>    0.054</td>\n",
       "</tr>\n",
       "<tr>\n",
       "  <th>scale(SLG)</th>   <td>    0.0054</td> <td>    0.003</td> <td>    1.544</td> <td> 0.125</td> <td>   -0.002</td> <td>    0.012</td>\n",
       "</tr>\n",
       "<tr>\n",
       "  <th>scale(OBP)</th>   <td>    0.0109</td> <td>    0.004</td> <td>    2.431</td> <td> 0.016</td> <td>    0.002</td> <td>    0.020</td>\n",
       "</tr>\n",
       "<tr>\n",
       "  <th>scale(OPS)</th>   <td>    0.0074</td> <td>    0.003</td> <td>    2.593</td> <td> 0.011</td> <td>    0.002</td> <td>    0.013</td>\n",
       "</tr>\n",
       "<tr>\n",
       "  <th>scale(RISP)</th>  <td>    0.0029</td> <td>    0.004</td> <td>    0.741</td> <td> 0.460</td> <td>   -0.005</td> <td>    0.010</td>\n",
       "</tr>\n",
       "<tr>\n",
       "  <th>scale(ERA)</th>   <td>   -0.0255</td> <td>    0.013</td> <td>   -1.945</td> <td> 0.054</td> <td>   -0.051</td> <td>    0.000</td>\n",
       "</tr>\n",
       "<tr>\n",
       "  <th>scale(SV)</th>    <td>    0.0160</td> <td>    0.002</td> <td>    6.728</td> <td> 0.000</td> <td>    0.011</td> <td>    0.021</td>\n",
       "</tr>\n",
       "<tr>\n",
       "  <th>scale(R_y)</th>   <td>   -0.0480</td> <td>    0.019</td> <td>   -2.551</td> <td> 0.012</td> <td>   -0.085</td> <td>   -0.011</td>\n",
       "</tr>\n",
       "<tr>\n",
       "  <th>scale(ER)</th>    <td>    0.0186</td> <td>    0.023</td> <td>    0.819</td> <td> 0.414</td> <td>   -0.026</td> <td>    0.063</td>\n",
       "</tr>\n",
       "<tr>\n",
       "  <th>scale(WHIP)</th>  <td>    0.0034</td> <td>    0.006</td> <td>    0.609</td> <td> 0.543</td> <td>   -0.008</td> <td>    0.015</td>\n",
       "</tr>\n",
       "<tr>\n",
       "  <th>scale(QS)</th>    <td>   -0.0015</td> <td>    0.003</td> <td>   -0.577</td> <td> 0.565</td> <td>   -0.007</td> <td>    0.004</td>\n",
       "</tr>\n",
       "<tr>\n",
       "  <th>scale(AVG)</th>   <td>   -0.0084</td> <td>    0.005</td> <td>   -1.824</td> <td> 0.070</td> <td>   -0.018</td> <td>    0.001</td>\n",
       "</tr>\n",
       "</table>\n",
       "<table class=\"simpletable\">\n",
       "<tr>\n",
       "  <th>Omnibus:</th>       <td> 5.840</td> <th>  Durbin-Watson:     </th> <td>   2.180</td>\n",
       "</tr>\n",
       "<tr>\n",
       "  <th>Prob(Omnibus):</th> <td> 0.054</td> <th>  Jarque-Bera (JB):  </th> <td>   5.399</td>\n",
       "</tr>\n",
       "<tr>\n",
       "  <th>Skew:</th>          <td>-0.446</td> <th>  Prob(JB):          </th> <td>  0.0672</td>\n",
       "</tr>\n",
       "<tr>\n",
       "  <th>Kurtosis:</th>      <td> 3.292</td> <th>  Cond. No.          </th> <td>4.10e+15</td>\n",
       "</tr>\n",
       "</table><br/><br/>Notes:<br/>[1] Standard Errors assume that the covariance matrix of the errors is correctly specified.<br/>[2] The smallest eigenvalue is 6.41e-29. This might indicate that there are<br/>strong multicollinearity problems or that the design matrix is singular."
      ],
      "text/plain": [
       "<class 'statsmodels.iolib.summary.Summary'>\n",
       "\"\"\"\n",
       "                            OLS Regression Results                            \n",
       "==============================================================================\n",
       "Dep. Variable:                   WPCT   R-squared:                       0.930\n",
       "Model:                            OLS   Adj. R-squared:                  0.923\n",
       "Method:                 Least Squares   F-statistic:                     135.9\n",
       "Date:                Sun, 05 Dec 2021   Prob (F-statistic):           5.17e-70\n",
       "Time:                        01:18:46   Log-Likelihood:                 361.68\n",
       "No. Observations:                 147   AIC:                            -695.4\n",
       "Df Residuals:                     133   BIC:                            -653.5\n",
       "Df Model:                          13                                         \n",
       "Covariance Type:            nonrobust                                         \n",
       "================================================================================\n",
       "                   coef    std err          t      P>|t|      [0.025      0.975]\n",
       "--------------------------------------------------------------------------------\n",
       "Intercept        0.4981      0.002    277.973      0.000       0.495       0.502\n",
       "scale(AVG_x)    -0.0029      0.005     -0.557      0.579      -0.013       0.007\n",
       "scale(R_x)       0.0439      0.027      1.624      0.107      -0.010       0.097\n",
       "scale(RBI)      -0.0009      0.028     -0.033      0.974      -0.056       0.054\n",
       "scale(SLG)       0.0054      0.003      1.544      0.125      -0.002       0.012\n",
       "scale(OBP)       0.0109      0.004      2.431      0.016       0.002       0.020\n",
       "scale(OPS)       0.0074      0.003      2.593      0.011       0.002       0.013\n",
       "scale(RISP)      0.0029      0.004      0.741      0.460      -0.005       0.010\n",
       "scale(ERA)      -0.0255      0.013     -1.945      0.054      -0.051       0.000\n",
       "scale(SV)        0.0160      0.002      6.728      0.000       0.011       0.021\n",
       "scale(R_y)      -0.0480      0.019     -2.551      0.012      -0.085      -0.011\n",
       "scale(ER)        0.0186      0.023      0.819      0.414      -0.026       0.063\n",
       "scale(WHIP)      0.0034      0.006      0.609      0.543      -0.008       0.015\n",
       "scale(QS)       -0.0015      0.003     -0.577      0.565      -0.007       0.004\n",
       "scale(AVG)      -0.0084      0.005     -1.824      0.070      -0.018       0.001\n",
       "==============================================================================\n",
       "Omnibus:                        5.840   Durbin-Watson:                   2.180\n",
       "Prob(Omnibus):                  0.054   Jarque-Bera (JB):                5.399\n",
       "Skew:                          -0.446   Prob(JB):                       0.0672\n",
       "Kurtosis:                       3.292   Cond. No.                     4.10e+15\n",
       "==============================================================================\n",
       "\n",
       "Notes:\n",
       "[1] Standard Errors assume that the covariance matrix of the errors is correctly specified.\n",
       "[2] The smallest eigenvalue is 6.41e-29. This might indicate that there are\n",
       "strong multicollinearity problems or that the design matrix is singular.\n",
       "\"\"\""
      ]
     },
     "execution_count": 48,
     "metadata": {},
     "output_type": "execute_result"
    }
   ],
   "source": [
    "# 다중공산성 해결 / 1. 정규화 (scale() 함수 사용)\n",
    "feature = list(df_train.columns)\n",
    "feature.remove('WPCT')\n",
    "feature = [\"scale({})\".format(name) for name in feature]\n",
    "model2 = ols('WPCT ~ ' + \"+\".join(feature), data=df_train)\n",
    "#model = ols('WPCT ~ scale(AVG_x) + scale(R_x) + scale(RBI) + scale(SLG) + scale(OBP) + scale(OPS) + scale(RISP) \\\n",
    "            #+ scale(ERA) + scale(SV) + scale(R_y) + scale(ER) + scale(WHIP) + scale(QS) + scale(AVG)', df)\n",
    "res2 = model2.fit()\n",
    "res2.summary()"
   ]
  },
  {
   "cell_type": "code",
   "execution_count": 49,
   "id": "70d3005a",
   "metadata": {},
   "outputs": [
    {
     "name": "stderr",
     "output_type": "stream",
     "text": [
      "C:\\Users\\msi\\anaconda3\\envs\\study\\lib\\site-packages\\statsmodels\\stats\\outliers_influence.py:195: RuntimeWarning: divide by zero encountered in double_scalars\n",
      "  vif = 1. / (1. - r_squared_i)\n"
     ]
    },
    {
     "data": {
      "text/html": [
       "<div>\n",
       "<style scoped>\n",
       "    .dataframe tbody tr th:only-of-type {\n",
       "        vertical-align: middle;\n",
       "    }\n",
       "\n",
       "    .dataframe tbody tr th {\n",
       "        vertical-align: top;\n",
       "    }\n",
       "\n",
       "    .dataframe thead th {\n",
       "        text-align: right;\n",
       "    }\n",
       "</style>\n",
       "<table border=\"1\" class=\"dataframe\">\n",
       "  <thead>\n",
       "    <tr style=\"text-align: right;\">\n",
       "      <th></th>\n",
       "      <th>컬럼</th>\n",
       "      <th>VIF</th>\n",
       "    </tr>\n",
       "  </thead>\n",
       "  <tbody>\n",
       "    <tr>\n",
       "      <th>0</th>\n",
       "      <td>scale(AVG_x)</td>\n",
       "      <td>8.530101</td>\n",
       "    </tr>\n",
       "    <tr>\n",
       "      <th>1</th>\n",
       "      <td>scale(R_x)</td>\n",
       "      <td>227.514813</td>\n",
       "    </tr>\n",
       "    <tr>\n",
       "      <th>2</th>\n",
       "      <td>scale(RBI)</td>\n",
       "      <td>242.186138</td>\n",
       "    </tr>\n",
       "    <tr>\n",
       "      <th>3</th>\n",
       "      <td>scale(SLG)</td>\n",
       "      <td>inf</td>\n",
       "    </tr>\n",
       "    <tr>\n",
       "      <th>4</th>\n",
       "      <td>scale(OBP)</td>\n",
       "      <td>inf</td>\n",
       "    </tr>\n",
       "    <tr>\n",
       "      <th>5</th>\n",
       "      <td>scale(OPS)</td>\n",
       "      <td>inf</td>\n",
       "    </tr>\n",
       "    <tr>\n",
       "      <th>6</th>\n",
       "      <td>scale(RISP)</td>\n",
       "      <td>4.626298</td>\n",
       "    </tr>\n",
       "    <tr>\n",
       "      <th>7</th>\n",
       "      <td>scale(ERA)</td>\n",
       "      <td>53.667501</td>\n",
       "    </tr>\n",
       "    <tr>\n",
       "      <th>8</th>\n",
       "      <td>scale(SV)</td>\n",
       "      <td>1.759803</td>\n",
       "    </tr>\n",
       "    <tr>\n",
       "      <th>9</th>\n",
       "      <td>scale(R_y)</td>\n",
       "      <td>110.208692</td>\n",
       "    </tr>\n",
       "    <tr>\n",
       "      <th>10</th>\n",
       "      <td>scale(ER)</td>\n",
       "      <td>160.188306</td>\n",
       "    </tr>\n",
       "    <tr>\n",
       "      <th>11</th>\n",
       "      <td>scale(WHIP)</td>\n",
       "      <td>9.821449</td>\n",
       "    </tr>\n",
       "    <tr>\n",
       "      <th>12</th>\n",
       "      <td>scale(QS)</td>\n",
       "      <td>2.049666</td>\n",
       "    </tr>\n",
       "    <tr>\n",
       "      <th>13</th>\n",
       "      <td>scale(AVG)</td>\n",
       "      <td>6.654109</td>\n",
       "    </tr>\n",
       "  </tbody>\n",
       "</table>\n",
       "</div>"
      ],
      "text/plain": [
       "              컬럼         VIF\n",
       "0   scale(AVG_x)    8.530101\n",
       "1     scale(R_x)  227.514813\n",
       "2     scale(RBI)  242.186138\n",
       "3     scale(SLG)         inf\n",
       "4     scale(OBP)         inf\n",
       "5     scale(OPS)         inf\n",
       "6    scale(RISP)    4.626298\n",
       "7     scale(ERA)   53.667501\n",
       "8      scale(SV)    1.759803\n",
       "9     scale(R_y)  110.208692\n",
       "10     scale(ER)  160.188306\n",
       "11   scale(WHIP)    9.821449\n",
       "12     scale(QS)    2.049666\n",
       "13    scale(AVG)    6.654109"
      ]
     },
     "execution_count": 49,
     "metadata": {},
     "output_type": "execute_result"
    }
   ],
   "source": [
    "pd.DataFrame({'컬럼':column, 'VIF':variance_inflation_factor(model2.exog, i)}\n",
    "            for i, column in enumerate(model2.exog_names)\n",
    "            if column != 'Intercept')"
   ]
  },
  {
   "cell_type": "code",
   "execution_count": 51,
   "id": "803101d1",
   "metadata": {},
   "outputs": [
    {
     "data": {
      "text/html": [
       "<table class=\"simpletable\">\n",
       "<caption>OLS Regression Results</caption>\n",
       "<tr>\n",
       "  <th>Dep. Variable:</th>          <td>WPCT</td>       <th>  R-squared:         </th> <td>   0.930</td>\n",
       "</tr>\n",
       "<tr>\n",
       "  <th>Model:</th>                   <td>OLS</td>       <th>  Adj. R-squared:    </th> <td>   0.924</td>\n",
       "</tr>\n",
       "<tr>\n",
       "  <th>Method:</th>             <td>Least Squares</td>  <th>  F-statistic:       </th> <td>   148.3</td>\n",
       "</tr>\n",
       "<tr>\n",
       "  <th>Date:</th>             <td>Sun, 05 Dec 2021</td> <th>  Prob (F-statistic):</th> <td>4.15e-71</td>\n",
       "</tr>\n",
       "<tr>\n",
       "  <th>Time:</th>                 <td>01:25:28</td>     <th>  Log-Likelihood:    </th> <td>  361.68</td>\n",
       "</tr>\n",
       "<tr>\n",
       "  <th>No. Observations:</th>      <td>   147</td>      <th>  AIC:               </th> <td>  -697.4</td>\n",
       "</tr>\n",
       "<tr>\n",
       "  <th>Df Residuals:</th>          <td>   134</td>      <th>  BIC:               </th> <td>  -658.5</td>\n",
       "</tr>\n",
       "<tr>\n",
       "  <th>Df Model:</th>              <td>    12</td>      <th>                     </th>     <td> </td>   \n",
       "</tr>\n",
       "<tr>\n",
       "  <th>Covariance Type:</th>      <td>nonrobust</td>    <th>                     </th>     <td> </td>   \n",
       "</tr>\n",
       "</table>\n",
       "<table class=\"simpletable\">\n",
       "<tr>\n",
       "        <td></td>          <th>coef</th>     <th>std err</th>      <th>t</th>      <th>P>|t|</th>  <th>[0.025</th>    <th>0.975]</th>  \n",
       "</tr>\n",
       "<tr>\n",
       "  <th>Intercept</th>    <td>    0.4981</td> <td>    0.002</td> <td>  279.015</td> <td> 0.000</td> <td>    0.495</td> <td>    0.502</td>\n",
       "</tr>\n",
       "<tr>\n",
       "  <th>scale(AVG_x)</th> <td>   -0.0029</td> <td>    0.005</td> <td>   -0.558</td> <td> 0.578</td> <td>   -0.013</td> <td>    0.007</td>\n",
       "</tr>\n",
       "<tr>\n",
       "  <th>scale(R_x)</th>   <td>    0.0431</td> <td>    0.009</td> <td>    4.781</td> <td> 0.000</td> <td>    0.025</td> <td>    0.061</td>\n",
       "</tr>\n",
       "<tr>\n",
       "  <th>scale(SLG)</th>   <td>    0.0053</td> <td>    0.003</td> <td>    1.658</td> <td> 0.100</td> <td>   -0.001</td> <td>    0.012</td>\n",
       "</tr>\n",
       "<tr>\n",
       "  <th>scale(OBP)</th>   <td>    0.0109</td> <td>    0.004</td> <td>    2.449</td> <td> 0.016</td> <td>    0.002</td> <td>    0.020</td>\n",
       "</tr>\n",
       "<tr>\n",
       "  <th>scale(OPS)</th>   <td>    0.0074</td> <td>    0.003</td> <td>    2.720</td> <td> 0.007</td> <td>    0.002</td> <td>    0.013</td>\n",
       "</tr>\n",
       "<tr>\n",
       "  <th>scale(RISP)</th>  <td>    0.0028</td> <td>    0.004</td> <td>    0.750</td> <td> 0.454</td> <td>   -0.005</td> <td>    0.010</td>\n",
       "</tr>\n",
       "<tr>\n",
       "  <th>scale(ERA)</th>   <td>   -0.0255</td> <td>    0.013</td> <td>   -1.968</td> <td> 0.051</td> <td>   -0.051</td> <td>    0.000</td>\n",
       "</tr>\n",
       "<tr>\n",
       "  <th>scale(SV)</th>    <td>    0.0160</td> <td>    0.002</td> <td>    6.774</td> <td> 0.000</td> <td>    0.011</td> <td>    0.021</td>\n",
       "</tr>\n",
       "<tr>\n",
       "  <th>scale(R_y)</th>   <td>   -0.0480</td> <td>    0.019</td> <td>   -2.576</td> <td> 0.011</td> <td>   -0.085</td> <td>   -0.011</td>\n",
       "</tr>\n",
       "<tr>\n",
       "  <th>scale(ER)</th>    <td>    0.0185</td> <td>    0.023</td> <td>    0.821</td> <td> 0.413</td> <td>   -0.026</td> <td>    0.063</td>\n",
       "</tr>\n",
       "<tr>\n",
       "  <th>scale(WHIP)</th>  <td>    0.0034</td> <td>    0.006</td> <td>    0.611</td> <td> 0.542</td> <td>   -0.008</td> <td>    0.014</td>\n",
       "</tr>\n",
       "<tr>\n",
       "  <th>scale(QS)</th>    <td>   -0.0015</td> <td>    0.003</td> <td>   -0.580</td> <td> 0.563</td> <td>   -0.007</td> <td>    0.004</td>\n",
       "</tr>\n",
       "<tr>\n",
       "  <th>scale(AVG)</th>   <td>   -0.0084</td> <td>    0.005</td> <td>   -1.834</td> <td> 0.069</td> <td>   -0.017</td> <td>    0.001</td>\n",
       "</tr>\n",
       "</table>\n",
       "<table class=\"simpletable\">\n",
       "<tr>\n",
       "  <th>Omnibus:</th>       <td> 5.806</td> <th>  Durbin-Watson:     </th> <td>   2.179</td>\n",
       "</tr>\n",
       "<tr>\n",
       "  <th>Prob(Omnibus):</th> <td> 0.055</td> <th>  Jarque-Bera (JB):  </th> <td>   5.366</td>\n",
       "</tr>\n",
       "<tr>\n",
       "  <th>Skew:</th>          <td>-0.445</td> <th>  Prob(JB):          </th> <td>  0.0683</td>\n",
       "</tr>\n",
       "<tr>\n",
       "  <th>Kurtosis:</th>      <td> 3.287</td> <th>  Cond. No.          </th> <td>3.36e+15</td>\n",
       "</tr>\n",
       "</table><br/><br/>Notes:<br/>[1] Standard Errors assume that the covariance matrix of the errors is correctly specified.<br/>[2] The smallest eigenvalue is 8.6e-29. This might indicate that there are<br/>strong multicollinearity problems or that the design matrix is singular."
      ],
      "text/plain": [
       "<class 'statsmodels.iolib.summary.Summary'>\n",
       "\"\"\"\n",
       "                            OLS Regression Results                            \n",
       "==============================================================================\n",
       "Dep. Variable:                   WPCT   R-squared:                       0.930\n",
       "Model:                            OLS   Adj. R-squared:                  0.924\n",
       "Method:                 Least Squares   F-statistic:                     148.3\n",
       "Date:                Sun, 05 Dec 2021   Prob (F-statistic):           4.15e-71\n",
       "Time:                        01:25:28   Log-Likelihood:                 361.68\n",
       "No. Observations:                 147   AIC:                            -697.4\n",
       "Df Residuals:                     134   BIC:                            -658.5\n",
       "Df Model:                          12                                         \n",
       "Covariance Type:            nonrobust                                         \n",
       "================================================================================\n",
       "                   coef    std err          t      P>|t|      [0.025      0.975]\n",
       "--------------------------------------------------------------------------------\n",
       "Intercept        0.4981      0.002    279.015      0.000       0.495       0.502\n",
       "scale(AVG_x)    -0.0029      0.005     -0.558      0.578      -0.013       0.007\n",
       "scale(R_x)       0.0431      0.009      4.781      0.000       0.025       0.061\n",
       "scale(SLG)       0.0053      0.003      1.658      0.100      -0.001       0.012\n",
       "scale(OBP)       0.0109      0.004      2.449      0.016       0.002       0.020\n",
       "scale(OPS)       0.0074      0.003      2.720      0.007       0.002       0.013\n",
       "scale(RISP)      0.0028      0.004      0.750      0.454      -0.005       0.010\n",
       "scale(ERA)      -0.0255      0.013     -1.968      0.051      -0.051       0.000\n",
       "scale(SV)        0.0160      0.002      6.774      0.000       0.011       0.021\n",
       "scale(R_y)      -0.0480      0.019     -2.576      0.011      -0.085      -0.011\n",
       "scale(ER)        0.0185      0.023      0.821      0.413      -0.026       0.063\n",
       "scale(WHIP)      0.0034      0.006      0.611      0.542      -0.008       0.014\n",
       "scale(QS)       -0.0015      0.003     -0.580      0.563      -0.007       0.004\n",
       "scale(AVG)      -0.0084      0.005     -1.834      0.069      -0.017       0.001\n",
       "==============================================================================\n",
       "Omnibus:                        5.806   Durbin-Watson:                   2.179\n",
       "Prob(Omnibus):                  0.055   Jarque-Bera (JB):                5.366\n",
       "Skew:                          -0.445   Prob(JB):                       0.0683\n",
       "Kurtosis:                       3.287   Cond. No.                     3.36e+15\n",
       "==============================================================================\n",
       "\n",
       "Notes:\n",
       "[1] Standard Errors assume that the covariance matrix of the errors is correctly specified.\n",
       "[2] The smallest eigenvalue is 8.6e-29. This might indicate that there are\n",
       "strong multicollinearity problems or that the design matrix is singular.\n",
       "\"\"\""
      ]
     },
     "execution_count": 51,
     "metadata": {},
     "output_type": "execute_result"
    }
   ],
   "source": [
    "# 다중공산성 해결 / 2. 변수 제거 (p-value, VIF 고려)\n",
    "feature = list(df_train.columns)\n",
    "feature.remove('WPCT')\n",
    "# p-value, VIF 모두 제일 큰 RBI 제거\n",
    "feature.remove('RBI')\n",
    "feature = [\"scale({})\".format(name) for name in feature]\n",
    "model3 = ols('WPCT ~ ' + \"+\".join(feature), data=df_train)\n",
    "#model = ols('WPCT ~ scale(AVG_x) + scale(R_x) + scale(RBI) + scale(SLG) + scale(OBP) + scale(OPS) + scale(RISP) \\\n",
    "            #+ scale(ERA) + scale(SV) + scale(R_y) + scale(ER) + scale(WHIP) + scale(QS) + scale(AVG)', df)\n",
    "res3 = model3.fit()\n",
    "res3.summary()"
   ]
  },
  {
   "cell_type": "code",
   "execution_count": 52,
   "id": "e618a9e4",
   "metadata": {},
   "outputs": [
    {
     "name": "stderr",
     "output_type": "stream",
     "text": [
      "C:\\Users\\msi\\anaconda3\\envs\\study\\lib\\site-packages\\statsmodels\\stats\\outliers_influence.py:195: RuntimeWarning: divide by zero encountered in double_scalars\n",
      "  vif = 1. / (1. - r_squared_i)\n"
     ]
    },
    {
     "data": {
      "text/html": [
       "<div>\n",
       "<style scoped>\n",
       "    .dataframe tbody tr th:only-of-type {\n",
       "        vertical-align: middle;\n",
       "    }\n",
       "\n",
       "    .dataframe tbody tr th {\n",
       "        vertical-align: top;\n",
       "    }\n",
       "\n",
       "    .dataframe thead th {\n",
       "        text-align: right;\n",
       "    }\n",
       "</style>\n",
       "<table border=\"1\" class=\"dataframe\">\n",
       "  <thead>\n",
       "    <tr style=\"text-align: right;\">\n",
       "      <th></th>\n",
       "      <th>컬럼</th>\n",
       "      <th>VIF</th>\n",
       "    </tr>\n",
       "  </thead>\n",
       "  <tbody>\n",
       "    <tr>\n",
       "      <th>0</th>\n",
       "      <td>scale(AVG_x)</td>\n",
       "      <td>8.492798</td>\n",
       "    </tr>\n",
       "    <tr>\n",
       "      <th>1</th>\n",
       "      <td>scale(R_x)</td>\n",
       "      <td>25.454017</td>\n",
       "    </tr>\n",
       "    <tr>\n",
       "      <th>2</th>\n",
       "      <td>scale(SLG)</td>\n",
       "      <td>inf</td>\n",
       "    </tr>\n",
       "    <tr>\n",
       "      <th>3</th>\n",
       "      <td>scale(OBP)</td>\n",
       "      <td>inf</td>\n",
       "    </tr>\n",
       "    <tr>\n",
       "      <th>4</th>\n",
       "      <td>scale(OPS)</td>\n",
       "      <td>inf</td>\n",
       "    </tr>\n",
       "    <tr>\n",
       "      <th>5</th>\n",
       "      <td>scale(RISP)</td>\n",
       "      <td>4.463989</td>\n",
       "    </tr>\n",
       "    <tr>\n",
       "      <th>6</th>\n",
       "      <td>scale(ERA)</td>\n",
       "      <td>52.611367</td>\n",
       "    </tr>\n",
       "    <tr>\n",
       "      <th>7</th>\n",
       "      <td>scale(SV)</td>\n",
       "      <td>1.750023</td>\n",
       "    </tr>\n",
       "    <tr>\n",
       "      <th>8</th>\n",
       "      <td>scale(R_y)</td>\n",
       "      <td>109.167859</td>\n",
       "    </tr>\n",
       "    <tr>\n",
       "      <th>9</th>\n",
       "      <td>scale(ER)</td>\n",
       "      <td>160.079085</td>\n",
       "    </tr>\n",
       "    <tr>\n",
       "      <th>10</th>\n",
       "      <td>scale(WHIP)</td>\n",
       "      <td>9.817622</td>\n",
       "    </tr>\n",
       "    <tr>\n",
       "      <th>11</th>\n",
       "      <td>scale(QS)</td>\n",
       "      <td>2.049249</td>\n",
       "    </tr>\n",
       "    <tr>\n",
       "      <th>12</th>\n",
       "      <td>scale(AVG)</td>\n",
       "      <td>6.609782</td>\n",
       "    </tr>\n",
       "  </tbody>\n",
       "</table>\n",
       "</div>"
      ],
      "text/plain": [
       "              컬럼         VIF\n",
       "0   scale(AVG_x)    8.492798\n",
       "1     scale(R_x)   25.454017\n",
       "2     scale(SLG)         inf\n",
       "3     scale(OBP)         inf\n",
       "4     scale(OPS)         inf\n",
       "5    scale(RISP)    4.463989\n",
       "6     scale(ERA)   52.611367\n",
       "7      scale(SV)    1.750023\n",
       "8     scale(R_y)  109.167859\n",
       "9      scale(ER)  160.079085\n",
       "10   scale(WHIP)    9.817622\n",
       "11     scale(QS)    2.049249\n",
       "12    scale(AVG)    6.609782"
      ]
     },
     "execution_count": 52,
     "metadata": {},
     "output_type": "execute_result"
    }
   ],
   "source": [
    "pd.DataFrame({'컬럼':column, 'VIF':variance_inflation_factor(model3.exog, i)}\n",
    "            for i, column in enumerate(model3.exog_names)\n",
    "            if column != 'Intercept')"
   ]
  },
  {
   "cell_type": "code",
   "execution_count": 53,
   "id": "37b1d39f",
   "metadata": {},
   "outputs": [
    {
     "data": {
      "text/html": [
       "<table class=\"simpletable\">\n",
       "<caption>OLS Regression Results</caption>\n",
       "<tr>\n",
       "  <th>Dep. Variable:</th>          <td>WPCT</td>       <th>  R-squared:         </th> <td>   0.930</td>\n",
       "</tr>\n",
       "<tr>\n",
       "  <th>Model:</th>                   <td>OLS</td>       <th>  Adj. R-squared:    </th> <td>   0.924</td>\n",
       "</tr>\n",
       "<tr>\n",
       "  <th>Method:</th>             <td>Least Squares</td>  <th>  F-statistic:       </th> <td>   162.1</td>\n",
       "</tr>\n",
       "<tr>\n",
       "  <th>Date:</th>             <td>Sun, 05 Dec 2021</td> <th>  Prob (F-statistic):</th> <td>4.44e-72</td>\n",
       "</tr>\n",
       "<tr>\n",
       "  <th>Time:</th>                 <td>01:27:16</td>     <th>  Log-Likelihood:    </th> <td>  361.31</td>\n",
       "</tr>\n",
       "<tr>\n",
       "  <th>No. Observations:</th>      <td>   147</td>      <th>  AIC:               </th> <td>  -698.6</td>\n",
       "</tr>\n",
       "<tr>\n",
       "  <th>Df Residuals:</th>          <td>   135</td>      <th>  BIC:               </th> <td>  -662.7</td>\n",
       "</tr>\n",
       "<tr>\n",
       "  <th>Df Model:</th>              <td>    11</td>      <th>                     </th>     <td> </td>   \n",
       "</tr>\n",
       "<tr>\n",
       "  <th>Covariance Type:</th>      <td>nonrobust</td>    <th>                     </th>     <td> </td>   \n",
       "</tr>\n",
       "</table>\n",
       "<table class=\"simpletable\">\n",
       "<tr>\n",
       "        <td></td>          <th>coef</th>     <th>std err</th>      <th>t</th>      <th>P>|t|</th>  <th>[0.025</th>    <th>0.975]</th>  \n",
       "</tr>\n",
       "<tr>\n",
       "  <th>Intercept</th>    <td>    0.4981</td> <td>    0.002</td> <td>  279.352</td> <td> 0.000</td> <td>    0.495</td> <td>    0.502</td>\n",
       "</tr>\n",
       "<tr>\n",
       "  <th>scale(AVG_x)</th> <td>   -0.0026</td> <td>    0.005</td> <td>   -0.510</td> <td> 0.611</td> <td>   -0.013</td> <td>    0.008</td>\n",
       "</tr>\n",
       "<tr>\n",
       "  <th>scale(R_x)</th>   <td>    0.0458</td> <td>    0.008</td> <td>    5.488</td> <td> 0.000</td> <td>    0.029</td> <td>    0.062</td>\n",
       "</tr>\n",
       "<tr>\n",
       "  <th>scale(SLG)</th>   <td>    0.0046</td> <td>    0.003</td> <td>    1.490</td> <td> 0.139</td> <td>   -0.002</td> <td>    0.011</td>\n",
       "</tr>\n",
       "<tr>\n",
       "  <th>scale(OBP)</th>   <td>    0.0102</td> <td>    0.004</td> <td>    2.335</td> <td> 0.021</td> <td>    0.002</td> <td>    0.019</td>\n",
       "</tr>\n",
       "<tr>\n",
       "  <th>scale(OPS)</th>   <td>    0.0066</td> <td>    0.003</td> <td>    2.599</td> <td> 0.010</td> <td>    0.002</td> <td>    0.012</td>\n",
       "</tr>\n",
       "<tr>\n",
       "  <th>scale(RISP)</th>  <td>    0.0027</td> <td>    0.004</td> <td>    0.721</td> <td> 0.472</td> <td>   -0.005</td> <td>    0.010</td>\n",
       "</tr>\n",
       "<tr>\n",
       "  <th>scale(ERA)</th>   <td>   -0.0187</td> <td>    0.010</td> <td>   -1.874</td> <td> 0.063</td> <td>   -0.038</td> <td>    0.001</td>\n",
       "</tr>\n",
       "<tr>\n",
       "  <th>scale(SV)</th>    <td>    0.0166</td> <td>    0.002</td> <td>    7.328</td> <td> 0.000</td> <td>    0.012</td> <td>    0.021</td>\n",
       "</tr>\n",
       "<tr>\n",
       "  <th>scale(R_y)</th>   <td>   -0.0353</td> <td>    0.010</td> <td>   -3.434</td> <td> 0.001</td> <td>   -0.056</td> <td>   -0.015</td>\n",
       "</tr>\n",
       "<tr>\n",
       "  <th>scale(WHIP)</th>  <td>    0.0026</td> <td>    0.006</td> <td>    0.478</td> <td> 0.633</td> <td>   -0.008</td> <td>    0.014</td>\n",
       "</tr>\n",
       "<tr>\n",
       "  <th>scale(QS)</th>    <td>   -0.0013</td> <td>    0.003</td> <td>   -0.525</td> <td> 0.600</td> <td>   -0.006</td> <td>    0.004</td>\n",
       "</tr>\n",
       "<tr>\n",
       "  <th>scale(AVG)</th>   <td>   -0.0089</td> <td>    0.005</td> <td>   -1.967</td> <td> 0.051</td> <td>   -0.018</td> <td> 4.72e-05</td>\n",
       "</tr>\n",
       "</table>\n",
       "<table class=\"simpletable\">\n",
       "<tr>\n",
       "  <th>Omnibus:</th>       <td> 6.426</td> <th>  Durbin-Watson:     </th> <td>   2.166</td>\n",
       "</tr>\n",
       "<tr>\n",
       "  <th>Prob(Omnibus):</th> <td> 0.040</td> <th>  Jarque-Bera (JB):  </th> <td>   6.013</td>\n",
       "</tr>\n",
       "<tr>\n",
       "  <th>Skew:</th>          <td>-0.469</td> <th>  Prob(JB):          </th> <td>  0.0495</td>\n",
       "</tr>\n",
       "<tr>\n",
       "  <th>Kurtosis:</th>      <td> 3.318</td> <th>  Cond. No.          </th> <td>4.03e+15</td>\n",
       "</tr>\n",
       "</table><br/><br/>Notes:<br/>[1] Standard Errors assume that the covariance matrix of the errors is correctly specified.<br/>[2] The smallest eigenvalue is 5.45e-29. This might indicate that there are<br/>strong multicollinearity problems or that the design matrix is singular."
      ],
      "text/plain": [
       "<class 'statsmodels.iolib.summary.Summary'>\n",
       "\"\"\"\n",
       "                            OLS Regression Results                            \n",
       "==============================================================================\n",
       "Dep. Variable:                   WPCT   R-squared:                       0.930\n",
       "Model:                            OLS   Adj. R-squared:                  0.924\n",
       "Method:                 Least Squares   F-statistic:                     162.1\n",
       "Date:                Sun, 05 Dec 2021   Prob (F-statistic):           4.44e-72\n",
       "Time:                        01:27:16   Log-Likelihood:                 361.31\n",
       "No. Observations:                 147   AIC:                            -698.6\n",
       "Df Residuals:                     135   BIC:                            -662.7\n",
       "Df Model:                          11                                         \n",
       "Covariance Type:            nonrobust                                         \n",
       "================================================================================\n",
       "                   coef    std err          t      P>|t|      [0.025      0.975]\n",
       "--------------------------------------------------------------------------------\n",
       "Intercept        0.4981      0.002    279.352      0.000       0.495       0.502\n",
       "scale(AVG_x)    -0.0026      0.005     -0.510      0.611      -0.013       0.008\n",
       "scale(R_x)       0.0458      0.008      5.488      0.000       0.029       0.062\n",
       "scale(SLG)       0.0046      0.003      1.490      0.139      -0.002       0.011\n",
       "scale(OBP)       0.0102      0.004      2.335      0.021       0.002       0.019\n",
       "scale(OPS)       0.0066      0.003      2.599      0.010       0.002       0.012\n",
       "scale(RISP)      0.0027      0.004      0.721      0.472      -0.005       0.010\n",
       "scale(ERA)      -0.0187      0.010     -1.874      0.063      -0.038       0.001\n",
       "scale(SV)        0.0166      0.002      7.328      0.000       0.012       0.021\n",
       "scale(R_y)      -0.0353      0.010     -3.434      0.001      -0.056      -0.015\n",
       "scale(WHIP)      0.0026      0.006      0.478      0.633      -0.008       0.014\n",
       "scale(QS)       -0.0013      0.003     -0.525      0.600      -0.006       0.004\n",
       "scale(AVG)      -0.0089      0.005     -1.967      0.051      -0.018    4.72e-05\n",
       "==============================================================================\n",
       "Omnibus:                        6.426   Durbin-Watson:                   2.166\n",
       "Prob(Omnibus):                  0.040   Jarque-Bera (JB):                6.013\n",
       "Skew:                          -0.469   Prob(JB):                       0.0495\n",
       "Kurtosis:                       3.318   Cond. No.                     4.03e+15\n",
       "==============================================================================\n",
       "\n",
       "Notes:\n",
       "[1] Standard Errors assume that the covariance matrix of the errors is correctly specified.\n",
       "[2] The smallest eigenvalue is 5.45e-29. This might indicate that there are\n",
       "strong multicollinearity problems or that the design matrix is singular.\n",
       "\"\"\""
      ]
     },
     "execution_count": 53,
     "metadata": {},
     "output_type": "execute_result"
    }
   ],
   "source": [
    "# 다중공산성 해결 / 2. 변수 제거 (p-value, VIF 고려)\n",
    "feature = list(df_train.columns)\n",
    "feature.remove('WPCT')\n",
    "# p-value, VIF 모두 제일 큰 RBI 제거\n",
    "feature.remove('RBI')\n",
    "# p-value가 적당히 크고, VIF가 제일 큰 ER 제거\n",
    "feature.remove('ER')\n",
    "feature = [\"scale({})\".format(name) for name in feature]\n",
    "model4 = ols('WPCT ~ ' + \"+\".join(feature), data=df_train)\n",
    "#model = ols('WPCT ~ scale(AVG_x) + scale(R_x) + scale(RBI) + scale(SLG) + scale(OBP) + scale(OPS) + scale(RISP) \\\n",
    "            #+ scale(ERA) + scale(SV) + scale(R_y) + scale(ER) + scale(WHIP) + scale(QS) + scale(AVG)', df)\n",
    "res4 = model4.fit()\n",
    "res4.summary()"
   ]
  },
  {
   "cell_type": "code",
   "execution_count": 54,
   "id": "45198ccb",
   "metadata": {
    "scrolled": false
   },
   "outputs": [
    {
     "name": "stderr",
     "output_type": "stream",
     "text": [
      "C:\\Users\\msi\\anaconda3\\envs\\study\\lib\\site-packages\\statsmodels\\stats\\outliers_influence.py:195: RuntimeWarning: divide by zero encountered in double_scalars\n",
      "  vif = 1. / (1. - r_squared_i)\n"
     ]
    },
    {
     "data": {
      "text/html": [
       "<div>\n",
       "<style scoped>\n",
       "    .dataframe tbody tr th:only-of-type {\n",
       "        vertical-align: middle;\n",
       "    }\n",
       "\n",
       "    .dataframe tbody tr th {\n",
       "        vertical-align: top;\n",
       "    }\n",
       "\n",
       "    .dataframe thead th {\n",
       "        text-align: right;\n",
       "    }\n",
       "</style>\n",
       "<table border=\"1\" class=\"dataframe\">\n",
       "  <thead>\n",
       "    <tr style=\"text-align: right;\">\n",
       "      <th></th>\n",
       "      <th>컬럼</th>\n",
       "      <th>VIF</th>\n",
       "    </tr>\n",
       "  </thead>\n",
       "  <tbody>\n",
       "    <tr>\n",
       "      <th>0</th>\n",
       "      <td>scale(AVG_x)</td>\n",
       "      <td>8.461989</td>\n",
       "    </tr>\n",
       "    <tr>\n",
       "      <th>1</th>\n",
       "      <td>scale(R_x)</td>\n",
       "      <td>21.922790</td>\n",
       "    </tr>\n",
       "    <tr>\n",
       "      <th>2</th>\n",
       "      <td>scale(SLG)</td>\n",
       "      <td>inf</td>\n",
       "    </tr>\n",
       "    <tr>\n",
       "      <th>3</th>\n",
       "      <td>scale(OBP)</td>\n",
       "      <td>inf</td>\n",
       "    </tr>\n",
       "    <tr>\n",
       "      <th>4</th>\n",
       "      <td>scale(OPS)</td>\n",
       "      <td>inf</td>\n",
       "    </tr>\n",
       "    <tr>\n",
       "      <th>5</th>\n",
       "      <td>scale(RISP)</td>\n",
       "      <td>4.457875</td>\n",
       "    </tr>\n",
       "    <tr>\n",
       "      <th>6</th>\n",
       "      <td>scale(ERA)</td>\n",
       "      <td>31.431032</td>\n",
       "    </tr>\n",
       "    <tr>\n",
       "      <th>7</th>\n",
       "      <td>scale(SV)</td>\n",
       "      <td>1.605334</td>\n",
       "    </tr>\n",
       "    <tr>\n",
       "      <th>8</th>\n",
       "      <td>scale(R_y)</td>\n",
       "      <td>33.183140</td>\n",
       "    </tr>\n",
       "    <tr>\n",
       "      <th>9</th>\n",
       "      <td>scale(WHIP)</td>\n",
       "      <td>9.529800</td>\n",
       "    </tr>\n",
       "    <tr>\n",
       "      <th>10</th>\n",
       "      <td>scale(QS)</td>\n",
       "      <td>2.039525</td>\n",
       "    </tr>\n",
       "    <tr>\n",
       "      <th>11</th>\n",
       "      <td>scale(AVG)</td>\n",
       "      <td>6.486247</td>\n",
       "    </tr>\n",
       "  </tbody>\n",
       "</table>\n",
       "</div>"
      ],
      "text/plain": [
       "              컬럼        VIF\n",
       "0   scale(AVG_x)   8.461989\n",
       "1     scale(R_x)  21.922790\n",
       "2     scale(SLG)        inf\n",
       "3     scale(OBP)        inf\n",
       "4     scale(OPS)        inf\n",
       "5    scale(RISP)   4.457875\n",
       "6     scale(ERA)  31.431032\n",
       "7      scale(SV)   1.605334\n",
       "8     scale(R_y)  33.183140\n",
       "9    scale(WHIP)   9.529800\n",
       "10     scale(QS)   2.039525\n",
       "11    scale(AVG)   6.486247"
      ]
     },
     "execution_count": 54,
     "metadata": {},
     "output_type": "execute_result"
    }
   ],
   "source": [
    "pd.DataFrame({'컬럼':column, 'VIF':variance_inflation_factor(model4.exog, i)}\n",
    "            for i, column in enumerate(model4.exog_names)\n",
    "            if column != 'Intercept')"
   ]
  },
  {
   "cell_type": "code",
   "execution_count": 53,
   "id": "741acd66",
   "metadata": {},
   "outputs": [
    {
     "data": {
      "text/html": [
       "<table class=\"simpletable\">\n",
       "<caption>OLS Regression Results</caption>\n",
       "<tr>\n",
       "  <th>Dep. Variable:</th>          <td>WPCT</td>       <th>  R-squared:         </th> <td>   0.928</td>\n",
       "</tr>\n",
       "<tr>\n",
       "  <th>Model:</th>                   <td>OLS</td>       <th>  Adj. R-squared:    </th> <td>   0.923</td>\n",
       "</tr>\n",
       "<tr>\n",
       "  <th>Method:</th>             <td>Least Squares</td>  <th>  F-statistic:       </th> <td>   175.4</td>\n",
       "</tr>\n",
       "<tr>\n",
       "  <th>Date:</th>             <td>Tue, 07 Dec 2021</td> <th>  Prob (F-statistic):</th> <td>1.47e-72</td>\n",
       "</tr>\n",
       "<tr>\n",
       "  <th>Time:</th>                 <td>04:10:18</td>     <th>  Log-Likelihood:    </th> <td>  359.66</td>\n",
       "</tr>\n",
       "<tr>\n",
       "  <th>No. Observations:</th>      <td>   147</td>      <th>  AIC:               </th> <td>  -697.3</td>\n",
       "</tr>\n",
       "<tr>\n",
       "  <th>Df Residuals:</th>          <td>   136</td>      <th>  BIC:               </th> <td>  -664.4</td>\n",
       "</tr>\n",
       "<tr>\n",
       "  <th>Df Model:</th>              <td>    10</td>      <th>                     </th>     <td> </td>   \n",
       "</tr>\n",
       "<tr>\n",
       "  <th>Covariance Type:</th>      <td>nonrobust</td>    <th>                     </th>     <td> </td>   \n",
       "</tr>\n",
       "</table>\n",
       "<table class=\"simpletable\">\n",
       "<tr>\n",
       "        <td></td>          <th>coef</th>     <th>std err</th>      <th>t</th>      <th>P>|t|</th>  <th>[0.025</th>    <th>0.975]</th>  \n",
       "</tr>\n",
       "<tr>\n",
       "  <th>Intercept</th>    <td>    0.4981</td> <td>    0.002</td> <td>  277.255</td> <td> 0.000</td> <td>    0.495</td> <td>    0.502</td>\n",
       "</tr>\n",
       "<tr>\n",
       "  <th>scale(AVG_x)</th> <td>    0.0011</td> <td>    0.005</td> <td>    0.233</td> <td> 0.816</td> <td>   -0.008</td> <td>    0.011</td>\n",
       "</tr>\n",
       "<tr>\n",
       "  <th>scale(R_x)</th>   <td>    0.0495</td> <td>    0.008</td> <td>    6.078</td> <td> 0.000</td> <td>    0.033</td> <td>    0.066</td>\n",
       "</tr>\n",
       "<tr>\n",
       "  <th>scale(OPS)</th>   <td>    0.0148</td> <td>    0.006</td> <td>    2.303</td> <td> 0.023</td> <td>    0.002</td> <td>    0.028</td>\n",
       "</tr>\n",
       "<tr>\n",
       "  <th>scale(RISP)</th>  <td>    0.0024</td> <td>    0.004</td> <td>    0.627</td> <td> 0.532</td> <td>   -0.005</td> <td>    0.010</td>\n",
       "</tr>\n",
       "<tr>\n",
       "  <th>scale(ERA)</th>   <td>   -0.0158</td> <td>    0.010</td> <td>   -1.595</td> <td> 0.113</td> <td>   -0.035</td> <td>    0.004</td>\n",
       "</tr>\n",
       "<tr>\n",
       "  <th>scale(SV)</th>    <td>    0.0167</td> <td>    0.002</td> <td>    7.355</td> <td> 0.000</td> <td>    0.012</td> <td>    0.021</td>\n",
       "</tr>\n",
       "<tr>\n",
       "  <th>scale(R_y)</th>   <td>   -0.0402</td> <td>    0.010</td> <td>   -4.033</td> <td> 0.000</td> <td>   -0.060</td> <td>   -0.020</td>\n",
       "</tr>\n",
       "<tr>\n",
       "  <th>scale(WHIP)</th>  <td>    0.0051</td> <td>    0.005</td> <td>    0.942</td> <td> 0.348</td> <td>   -0.006</td> <td>    0.016</td>\n",
       "</tr>\n",
       "<tr>\n",
       "  <th>scale(QS)</th>    <td>   -0.0020</td> <td>    0.003</td> <td>   -0.769</td> <td> 0.443</td> <td>   -0.007</td> <td>    0.003</td>\n",
       "</tr>\n",
       "<tr>\n",
       "  <th>scale(AVG)</th>   <td>   -0.0113</td> <td>    0.004</td> <td>   -2.572</td> <td> 0.011</td> <td>   -0.020</td> <td>   -0.003</td>\n",
       "</tr>\n",
       "</table>\n",
       "<table class=\"simpletable\">\n",
       "<tr>\n",
       "  <th>Omnibus:</th>       <td> 4.368</td> <th>  Durbin-Watson:     </th> <td>   2.198</td>\n",
       "</tr>\n",
       "<tr>\n",
       "  <th>Prob(Omnibus):</th> <td> 0.113</td> <th>  Jarque-Bera (JB):  </th> <td>   4.000</td>\n",
       "</tr>\n",
       "<tr>\n",
       "  <th>Skew:</th>          <td>-0.398</td> <th>  Prob(JB):          </th> <td>   0.135</td>\n",
       "</tr>\n",
       "<tr>\n",
       "  <th>Kurtosis:</th>      <td> 3.143</td> <th>  Cond. No.          </th> <td>    19.6</td>\n",
       "</tr>\n",
       "</table><br/><br/>Notes:<br/>[1] Standard Errors assume that the covariance matrix of the errors is correctly specified."
      ],
      "text/plain": [
       "<class 'statsmodels.iolib.summary.Summary'>\n",
       "\"\"\"\n",
       "                            OLS Regression Results                            \n",
       "==============================================================================\n",
       "Dep. Variable:                   WPCT   R-squared:                       0.928\n",
       "Model:                            OLS   Adj. R-squared:                  0.923\n",
       "Method:                 Least Squares   F-statistic:                     175.4\n",
       "Date:                Tue, 07 Dec 2021   Prob (F-statistic):           1.47e-72\n",
       "Time:                        04:10:18   Log-Likelihood:                 359.66\n",
       "No. Observations:                 147   AIC:                            -697.3\n",
       "Df Residuals:                     136   BIC:                            -664.4\n",
       "Df Model:                          10                                         \n",
       "Covariance Type:            nonrobust                                         \n",
       "================================================================================\n",
       "                   coef    std err          t      P>|t|      [0.025      0.975]\n",
       "--------------------------------------------------------------------------------\n",
       "Intercept        0.4981      0.002    277.255      0.000       0.495       0.502\n",
       "scale(AVG_x)     0.0011      0.005      0.233      0.816      -0.008       0.011\n",
       "scale(R_x)       0.0495      0.008      6.078      0.000       0.033       0.066\n",
       "scale(OPS)       0.0148      0.006      2.303      0.023       0.002       0.028\n",
       "scale(RISP)      0.0024      0.004      0.627      0.532      -0.005       0.010\n",
       "scale(ERA)      -0.0158      0.010     -1.595      0.113      -0.035       0.004\n",
       "scale(SV)        0.0167      0.002      7.355      0.000       0.012       0.021\n",
       "scale(R_y)      -0.0402      0.010     -4.033      0.000      -0.060      -0.020\n",
       "scale(WHIP)      0.0051      0.005      0.942      0.348      -0.006       0.016\n",
       "scale(QS)       -0.0020      0.003     -0.769      0.443      -0.007       0.003\n",
       "scale(AVG)      -0.0113      0.004     -2.572      0.011      -0.020      -0.003\n",
       "==============================================================================\n",
       "Omnibus:                        4.368   Durbin-Watson:                   2.198\n",
       "Prob(Omnibus):                  0.113   Jarque-Bera (JB):                4.000\n",
       "Skew:                          -0.398   Prob(JB):                        0.135\n",
       "Kurtosis:                       3.143   Cond. No.                         19.6\n",
       "==============================================================================\n",
       "\n",
       "Notes:\n",
       "[1] Standard Errors assume that the covariance matrix of the errors is correctly specified.\n",
       "\"\"\""
      ]
     },
     "execution_count": 53,
     "metadata": {},
     "output_type": "execute_result"
    }
   ],
   "source": [
    "# 다중공산성 해결 / 2. 변수 제거 (p-value, VIF 고려)\n",
    "feature = list(df_train.columns)\n",
    "feature.remove('WPCT')\n",
    "# p-value, VIF 모두 제일 큰 RBI 제거\n",
    "feature.remove('RBI')\n",
    "# p-value가 적당히 크고, VIF가 제일 큰 ER 제거\n",
    "feature.remove('ER')\n",
    "# SLG + OBP = OPS이므로, SLG, OBP를 한 번 제거해 봄\n",
    "feature.remove('SLG')\n",
    "feature.remove('OBP')\n",
    "feature = [\"scale({})\".format(name) for name in feature]\n",
    "model5 = ols('WPCT ~ ' + \"+\".join(feature), data=df_train)\n",
    "#model = ols('WPCT ~ scale(AVG_x) + scale(R_x) + scale(RBI) + scale(SLG) + scale(OBP) + scale(OPS) + scale(RISP) \\\n",
    "            #+ scale(ERA) + scale(SV) + scale(R_y) + scale(ER) + scale(WHIP) + scale(QS) + scale(AVG)', df)\n",
    "res5 = model5.fit()\n",
    "res5.summary()"
   ]
  },
  {
   "cell_type": "code",
   "execution_count": 54,
   "id": "d04415e8",
   "metadata": {},
   "outputs": [
    {
     "data": {
      "text/html": [
       "<div>\n",
       "<style scoped>\n",
       "    .dataframe tbody tr th:only-of-type {\n",
       "        vertical-align: middle;\n",
       "    }\n",
       "\n",
       "    .dataframe tbody tr th {\n",
       "        vertical-align: top;\n",
       "    }\n",
       "\n",
       "    .dataframe thead th {\n",
       "        text-align: right;\n",
       "    }\n",
       "</style>\n",
       "<table border=\"1\" class=\"dataframe\">\n",
       "  <thead>\n",
       "    <tr style=\"text-align: right;\">\n",
       "      <th></th>\n",
       "      <th>컬럼</th>\n",
       "      <th>VIF</th>\n",
       "    </tr>\n",
       "  </thead>\n",
       "  <tbody>\n",
       "    <tr>\n",
       "      <th>0</th>\n",
       "      <td>scale(AVG_x)</td>\n",
       "      <td>7.015746</td>\n",
       "    </tr>\n",
       "    <tr>\n",
       "      <th>1</th>\n",
       "      <td>scale(R_x)</td>\n",
       "      <td>20.538739</td>\n",
       "    </tr>\n",
       "    <tr>\n",
       "      <th>2</th>\n",
       "      <td>scale(OPS)</td>\n",
       "      <td>12.841422</td>\n",
       "    </tr>\n",
       "    <tr>\n",
       "      <th>3</th>\n",
       "      <td>scale(RISP)</td>\n",
       "      <td>4.445847</td>\n",
       "    </tr>\n",
       "    <tr>\n",
       "      <th>4</th>\n",
       "      <td>scale(ERA)</td>\n",
       "      <td>30.578095</td>\n",
       "    </tr>\n",
       "    <tr>\n",
       "      <th>5</th>\n",
       "      <td>scale(SV)</td>\n",
       "      <td>1.602368</td>\n",
       "    </tr>\n",
       "    <tr>\n",
       "      <th>6</th>\n",
       "      <td>scale(R_y)</td>\n",
       "      <td>30.726576</td>\n",
       "    </tr>\n",
       "    <tr>\n",
       "      <th>7</th>\n",
       "      <td>scale(WHIP)</td>\n",
       "      <td>8.927413</td>\n",
       "    </tr>\n",
       "    <tr>\n",
       "      <th>8</th>\n",
       "      <td>scale(QS)</td>\n",
       "      <td>2.000522</td>\n",
       "    </tr>\n",
       "    <tr>\n",
       "      <th>9</th>\n",
       "      <td>scale(AVG)</td>\n",
       "      <td>5.933895</td>\n",
       "    </tr>\n",
       "  </tbody>\n",
       "</table>\n",
       "</div>"
      ],
      "text/plain": [
       "             컬럼        VIF\n",
       "0  scale(AVG_x)   7.015746\n",
       "1    scale(R_x)  20.538739\n",
       "2    scale(OPS)  12.841422\n",
       "3   scale(RISP)   4.445847\n",
       "4    scale(ERA)  30.578095\n",
       "5     scale(SV)   1.602368\n",
       "6    scale(R_y)  30.726576\n",
       "7   scale(WHIP)   8.927413\n",
       "8     scale(QS)   2.000522\n",
       "9    scale(AVG)   5.933895"
      ]
     },
     "execution_count": 54,
     "metadata": {},
     "output_type": "execute_result"
    }
   ],
   "source": [
    "pd.DataFrame({'컬럼':column, 'VIF':variance_inflation_factor(model5.exog, i)}\n",
    "            for i, column in enumerate(model5.exog_names)\n",
    "            if column != 'Intercept')"
   ]
  },
  {
   "cell_type": "code",
   "execution_count": 55,
   "id": "17b36e2d",
   "metadata": {},
   "outputs": [
    {
     "name": "stdout",
     "output_type": "stream",
     "text": [
      "Intercept       0.498068\n",
      "scale(AVG_x)    0.001110\n",
      "scale(R_x)      0.049483\n",
      "scale(OPS)      0.014822\n",
      "scale(RISP)     0.002374\n",
      "scale(ERA)     -0.015846\n",
      "scale(SV)       0.016725\n",
      "scale(R_y)     -0.040157\n",
      "scale(WHIP)     0.005054\n",
      "scale(QS)      -0.001954\n",
      "scale(AVG)     -0.011253\n",
      "dtype: float64\n"
     ]
    }
   ],
   "source": [
    "print(res5.params)"
   ]
  },
  {
   "cell_type": "code",
   "execution_count": 56,
   "id": "04888d52",
   "metadata": {},
   "outputs": [
    {
     "name": "stderr",
     "output_type": "stream",
     "text": [
      "C:\\Users\\msi\\anaconda3\\envs\\study\\lib\\site-packages\\ipykernel_launcher.py:11: MatplotlibDeprecationWarning: Adding an axes using the same arguments as a previous axes currently reuses the earlier instance.  In a future version, a new instance will always be created and returned.  Meanwhile, this warning can be suppressed, and the future behavior ensured, by passing a unique label to each axes instance.\n",
      "  # This is added back by InteractiveShellApp.init_path()\n"
     ]
    },
    {
     "data": {
      "text/plain": [
       "(0.3, 0.7)"
      ]
     },
     "execution_count": 56,
     "metadata": {},
     "output_type": "execute_result"
    },
    {
     "data": {
      "image/png": "[encoded data removed]",
      "text/plain": [
       "<Figure size 432x288 with 1 Axes>"
      ]
     },
     "metadata": {
      "needs_background": "light"
     },
     "output_type": "display_data"
    }
   ],
   "source": [
    "# model5를 가지고 predict() 실행\n",
    "y_pred = res5.predict(x_test)\n",
    "\n",
    "x = np.arange(0.3, 0.8, 0.1)\n",
    "y = np.arange(0.3, 0.8, 0.1)\n",
    "plt.plot(x,y)\n",
    "\n",
    "plt.scatter(y_test, y_pred)\n",
    "plt.xlabel('y_test')\n",
    "plt.ylabel('y_pred')\n",
    "plt.axes().set_aspect('equal')\n",
    "\n",
    "plt.xlim([0.3, 0.7])\n",
    "plt.ylim([0.3, 0.7])"
   ]
  },
  {
   "cell_type": "code",
   "execution_count": null,
   "id": "f0e5a9c4",
   "metadata": {},
   "outputs": [],
   "source": []
  },
  {
   "cell_type": "code",
   "execution_count": 48,
   "id": "af89cf3a",
   "metadata": {},
   "outputs": [
    {
     "data": {
      "text/html": [
       "<table class=\"simpletable\">\n",
       "<caption>OLS Regression Results</caption>\n",
       "<tr>\n",
       "  <th>Dep. Variable:</th>          <td>WPCT</td>       <th>  R-squared:         </th> <td>   0.926</td>\n",
       "</tr>\n",
       "<tr>\n",
       "  <th>Model:</th>                   <td>OLS</td>       <th>  Adj. R-squared:    </th> <td>   0.924</td>\n",
       "</tr>\n",
       "<tr>\n",
       "  <th>Method:</th>             <td>Least Squares</td>  <th>  F-statistic:       </th> <td>   354.4</td>\n",
       "</tr>\n",
       "<tr>\n",
       "  <th>Date:</th>             <td>Tue, 07 Dec 2021</td> <th>  Prob (F-statistic):</th> <td>5.87e-78</td>\n",
       "</tr>\n",
       "<tr>\n",
       "  <th>Time:</th>                 <td>04:09:22</td>     <th>  Log-Likelihood:    </th> <td>  357.91</td>\n",
       "</tr>\n",
       "<tr>\n",
       "  <th>No. Observations:</th>      <td>   147</td>      <th>  AIC:               </th> <td>  -703.8</td>\n",
       "</tr>\n",
       "<tr>\n",
       "  <th>Df Residuals:</th>          <td>   141</td>      <th>  BIC:               </th> <td>  -685.9</td>\n",
       "</tr>\n",
       "<tr>\n",
       "  <th>Df Model:</th>              <td>     5</td>      <th>                     </th>     <td> </td>   \n",
       "</tr>\n",
       "<tr>\n",
       "  <th>Covariance Type:</th>      <td>nonrobust</td>    <th>                     </th>     <td> </td>   \n",
       "</tr>\n",
       "</table>\n",
       "<table class=\"simpletable\">\n",
       "<tr>\n",
       "       <td></td>         <th>coef</th>     <th>std err</th>      <th>t</th>      <th>P>|t|</th>  <th>[0.025</th>    <th>0.975]</th>  \n",
       "</tr>\n",
       "<tr>\n",
       "  <th>Intercept</th>  <td>    0.4981</td> <td>    0.002</td> <td>  278.954</td> <td> 0.000</td> <td>    0.495</td> <td>    0.502</td>\n",
       "</tr>\n",
       "<tr>\n",
       "  <th>scale(R_x)</th> <td>    0.0566</td> <td>    0.005</td> <td>   12.047</td> <td> 0.000</td> <td>    0.047</td> <td>    0.066</td>\n",
       "</tr>\n",
       "<tr>\n",
       "  <th>scale(OPS)</th> <td>    0.0111</td> <td>    0.004</td> <td>    2.652</td> <td> 0.009</td> <td>    0.003</td> <td>    0.019</td>\n",
       "</tr>\n",
       "<tr>\n",
       "  <th>scale(SV)</th>  <td>    0.0169</td> <td>    0.002</td> <td>    7.569</td> <td> 0.000</td> <td>    0.012</td> <td>    0.021</td>\n",
       "</tr>\n",
       "<tr>\n",
       "  <th>scale(R_y)</th> <td>   -0.0517</td> <td>    0.004</td> <td>  -13.034</td> <td> 0.000</td> <td>   -0.060</td> <td>   -0.044</td>\n",
       "</tr>\n",
       "<tr>\n",
       "  <th>scale(AVG)</th> <td>   -0.0107</td> <td>    0.003</td> <td>   -3.288</td> <td> 0.001</td> <td>   -0.017</td> <td>   -0.004</td>\n",
       "</tr>\n",
       "</table>\n",
       "<table class=\"simpletable\">\n",
       "<tr>\n",
       "  <th>Omnibus:</th>       <td> 2.686</td> <th>  Durbin-Watson:     </th> <td>   2.222</td>\n",
       "</tr>\n",
       "<tr>\n",
       "  <th>Prob(Omnibus):</th> <td> 0.261</td> <th>  Jarque-Bera (JB):  </th> <td>   2.590</td>\n",
       "</tr>\n",
       "<tr>\n",
       "  <th>Skew:</th>          <td>-0.323</td> <th>  Prob(JB):          </th> <td>   0.274</td>\n",
       "</tr>\n",
       "<tr>\n",
       "  <th>Kurtosis:</th>      <td> 2.928</td> <th>  Cond. No.          </th> <td>    6.36</td>\n",
       "</tr>\n",
       "</table><br/><br/>Notes:<br/>[1] Standard Errors assume that the covariance matrix of the errors is correctly specified."
      ],
      "text/plain": [
       "<class 'statsmodels.iolib.summary.Summary'>\n",
       "\"\"\"\n",
       "                            OLS Regression Results                            \n",
       "==============================================================================\n",
       "Dep. Variable:                   WPCT   R-squared:                       0.926\n",
       "Model:                            OLS   Adj. R-squared:                  0.924\n",
       "Method:                 Least Squares   F-statistic:                     354.4\n",
       "Date:                Tue, 07 Dec 2021   Prob (F-statistic):           5.87e-78\n",
       "Time:                        04:09:22   Log-Likelihood:                 357.91\n",
       "No. Observations:                 147   AIC:                            -703.8\n",
       "Df Residuals:                     141   BIC:                            -685.9\n",
       "Df Model:                           5                                         \n",
       "Covariance Type:            nonrobust                                         \n",
       "==============================================================================\n",
       "                 coef    std err          t      P>|t|      [0.025      0.975]\n",
       "------------------------------------------------------------------------------\n",
       "Intercept      0.4981      0.002    278.954      0.000       0.495       0.502\n",
       "scale(R_x)     0.0566      0.005     12.047      0.000       0.047       0.066\n",
       "scale(OPS)     0.0111      0.004      2.652      0.009       0.003       0.019\n",
       "scale(SV)      0.0169      0.002      7.569      0.000       0.012       0.021\n",
       "scale(R_y)    -0.0517      0.004    -13.034      0.000      -0.060      -0.044\n",
       "scale(AVG)    -0.0107      0.003     -3.288      0.001      -0.017      -0.004\n",
       "==============================================================================\n",
       "Omnibus:                        2.686   Durbin-Watson:                   2.222\n",
       "Prob(Omnibus):                  0.261   Jarque-Bera (JB):                2.590\n",
       "Skew:                          -0.323   Prob(JB):                        0.274\n",
       "Kurtosis:                       2.928   Cond. No.                         6.36\n",
       "==============================================================================\n",
       "\n",
       "Notes:\n",
       "[1] Standard Errors assume that the covariance matrix of the errors is correctly specified.\n",
       "\"\"\""
      ]
     },
     "execution_count": 48,
     "metadata": {},
     "output_type": "execute_result"
    }
   ],
   "source": [
    "# 유의미하지 않은 독립변수 제거(p-value 값이 높은 변수)\n",
    "feature = list(df_train.columns)\n",
    "feature.remove('WPCT')\n",
    "# p-value, VIF 모두 제일 큰 RBI 제거\n",
    "feature.remove('RBI')\n",
    "# p-value가 적당히 크고, VIF가 제일 큰 ER 제거\n",
    "feature.remove('ER')\n",
    "# SLG + OBP = OPS이므로, SLG, OBP를 한 번 제거해 봄\n",
    "feature.remove('SLG')\n",
    "feature.remove('OBP')\n",
    "# AVG_x, RISP, WHIP, QS 제거 -> ERA의 p-value값이 대폭 상승하여 제거해봄\n",
    "feature.remove('AVG_x')\n",
    "feature.remove('RISP')\n",
    "feature.remove('WHIP')\n",
    "feature.remove('QS')\n",
    "feature.remove('ERA')\n",
    "feature = [\"scale({})\".format(name) for name in feature]\n",
    "model6 = ols('WPCT ~ ' + \"+\".join(feature), data=df_train)\n",
    "#model = ols('WPCT ~ scale(AVG_x) + scale(R_x) + scale(RBI) + scale(SLG) + scale(OBP) + scale(OPS) + scale(RISP) \\\n",
    "            #+ scale(ERA) + scale(SV) + scale(R_y) + scale(ER) + scale(WHIP) + scale(QS) + scale(AVG)', df)\n",
    "res6 = model6.fit()\n",
    "res6.summary()"
   ]
  },
  {
   "cell_type": "code",
   "execution_count": 51,
   "id": "9d0c459b",
   "metadata": {},
   "outputs": [
    {
     "data": {
      "text/html": [
       "<div>\n",
       "<style scoped>\n",
       "    .dataframe tbody tr th:only-of-type {\n",
       "        vertical-align: middle;\n",
       "    }\n",
       "\n",
       "    .dataframe tbody tr th {\n",
       "        vertical-align: top;\n",
       "    }\n",
       "\n",
       "    .dataframe thead th {\n",
       "        text-align: right;\n",
       "    }\n",
       "</style>\n",
       "<table border=\"1\" class=\"dataframe\">\n",
       "  <thead>\n",
       "    <tr style=\"text-align: right;\">\n",
       "      <th></th>\n",
       "      <th>컬럼</th>\n",
       "      <th>VIF</th>\n",
       "    </tr>\n",
       "  </thead>\n",
       "  <tbody>\n",
       "    <tr>\n",
       "      <th>0</th>\n",
       "      <td>scale(R_x)</td>\n",
       "      <td>6.919940</td>\n",
       "    </tr>\n",
       "    <tr>\n",
       "      <th>1</th>\n",
       "      <td>scale(OPS)</td>\n",
       "      <td>5.520951</td>\n",
       "    </tr>\n",
       "    <tr>\n",
       "      <th>2</th>\n",
       "      <td>scale(SV)</td>\n",
       "      <td>1.566387</td>\n",
       "    </tr>\n",
       "    <tr>\n",
       "      <th>3</th>\n",
       "      <td>scale(R_y)</td>\n",
       "      <td>4.930632</td>\n",
       "    </tr>\n",
       "    <tr>\n",
       "      <th>4</th>\n",
       "      <td>scale(AVG)</td>\n",
       "      <td>3.340335</td>\n",
       "    </tr>\n",
       "  </tbody>\n",
       "</table>\n",
       "</div>"
      ],
      "text/plain": [
       "           컬럼       VIF\n",
       "0  scale(R_x)  6.919940\n",
       "1  scale(OPS)  5.520951\n",
       "2   scale(SV)  1.566387\n",
       "3  scale(R_y)  4.930632\n",
       "4  scale(AVG)  3.340335"
      ]
     },
     "execution_count": 51,
     "metadata": {},
     "output_type": "execute_result"
    }
   ],
   "source": [
    "pd.DataFrame({'컬럼':column, 'VIF':variance_inflation_factor(model6.exog, i)}\n",
    "            for i, column in enumerate(model6.exog_names)\n",
    "            if column != 'Intercept')"
   ]
  },
  {
   "cell_type": "code",
   "execution_count": 52,
   "id": "3228d023",
   "metadata": {},
   "outputs": [
    {
     "name": "stderr",
     "output_type": "stream",
     "text": [
      "C:\\Users\\msi\\anaconda3\\envs\\study\\lib\\site-packages\\ipykernel_launcher.py:11: MatplotlibDeprecationWarning: Adding an axes using the same arguments as a previous axes currently reuses the earlier instance.  In a future version, a new instance will always be created and returned.  Meanwhile, this warning can be suppressed, and the future behavior ensured, by passing a unique label to each axes instance.\n",
      "  # This is added back by InteractiveShellApp.init_path()\n"
     ]
    },
    {
     "data": {
      "text/plain": [
       "(0.3, 0.7)"
      ]
     },
     "execution_count": 52,
     "metadata": {},
     "output_type": "execute_result"
    },
    {
     "data": {
      "image/png": "[encoded data removed]",
      "text/plain": [
       "<Figure size 432x288 with 1 Axes>"
      ]
     },
     "metadata": {
      "needs_background": "light"
     },
     "output_type": "display_data"
    }
   ],
   "source": [
    "# model6를 가지고 predict() 실행\n",
    "y_pred = res6.predict(x_test)\n",
    "\n",
    "x = np.arange(0.3, 0.8, 0.1)\n",
    "y = np.arange(0.3, 0.8, 0.1)\n",
    "plt.plot(x,y)\n",
    "\n",
    "plt.scatter(y_test, y_pred)\n",
    "plt.xlabel('y_test')\n",
    "plt.ylabel('y_pred')\n",
    "plt.axes().set_aspect('equal')\n",
    "plt.xlim([0.3, 0.7])\n",
    "plt.ylim([0.3, 0.7])"
   ]
  },
  {
   "cell_type": "code",
   "execution_count": null,
   "id": "1065b947",
   "metadata": {},
   "outputs": [],
   "source": []
  },
  {
   "cell_type": "code",
   "execution_count": 1,
   "id": "c6307b9c",
   "metadata": {},
   "outputs": [],
   "source": [
    "# KBO 기록실에서 2018~2021년도 월별 한화 선수 성적 크롤링\n",
    "import numpy as np\n",
    "import pandas as pd\n",
    "import time\n",
    "from bs4 import BeautifulSoup\n",
    "from selenium import webdriver\n",
    "from html_table_parser import parser_functions as parser\n",
    "from selenium.webdriver.support.select import Select\n",
    "\n",
    "# Query 변수\n",
    "sort_list = {\"HitterBasic\" : \"BasicOld\", \"PitcherBasic\" : \"BasicOld\"}\n",
    "month = [\"3,4\", \"5\", \"6\", \"7\", \"8\", \"9,10,11,12\"]\n",
    "\n",
    "# 2018 ~ 2021 선수 성적\n",
    "kbo_list = list(np.arange(2018, 2022))\n",
    "year_record = []\n",
    "\n",
    "for record in kbo_list:\n",
    "    record = pd.DataFrame()\n",
    "    year_record.append(record)\n",
    "    \n",
    "for i in range(0, len(sort_list)):\n",
    "    # 드라이버 객체\n",
    "    driver = webdriver.Chrome(executable_path='D:/conda/chromedriver.exe')\n",
    "    \n",
    "    # KBO 기록실 URL\n",
    "    part_URL = \"https://www.koreabaseball.com/Record/Player/\"\n",
    "        \n",
    "    # 각 기록별 URL\n",
    "    part_URL += list(sort_list.keys())[i] + \"/\" + list(sort_list.values())[i] + \".aspx\"\n",
    "    \n",
    "    driver.get(url=str(part_URL))\n",
    "    \n",
    "    # 정규시즌 선택\n",
    "    select_tag = Select(driver.find_element_by_id(\"cphContents_cphContents_cphContents_ddlSeries_ddlSeries\"))\n",
    "    select_tag.select_by_value(str(0))\n",
    "        \n",
    "    time.sleep(2)\n",
    "    \n",
    "    for j in range(0, 4):   \n",
    "        # 년도 선택\n",
    "        select_tag = Select(driver.find_element_by_id(\"cphContents_cphContents_cphContents_ddlSeason_ddlSeason\"))\n",
    "        select_tag.select_by_value(str(kbo_list[j]))\n",
    "        \n",
    "        time.sleep(2)\n",
    "        \n",
    "        # 팀 선택 (한화)\n",
    "        select_tag = Select(driver.find_element_by_id(\"cphContents_cphContents_cphContents_ddlTeam_ddlTeam\"))\n",
    "        select_tag.select_by_value(\"HH\")\n",
    "\n",
    "        time.sleep(2)\n",
    "            \n",
    "        # 상황 선택\n",
    "        select_tag = Select(driver.find_element_by_id(\"cphContents_cphContents_cphContents_ddlSituation_ddlSituation\"))\n",
    "        select_tag.select_by_value(\"MONTH_SC\")\n",
    "        \n",
    "        time.sleep(2)\n",
    "        \n",
    "        for k in range(0, 6):\n",
    "            # 월별 선택\n",
    "            select_tag = Select(driver.find_element_by_id(\"cphContents_cphContents_cphContents_ddlSituationDetail_ddlSituationDetail\"))\n",
    "            select_tag.select_by_value(month[k])\n",
    "        \n",
    "            time.sleep(2)\n",
    "\n",
    "            html = driver.page_source\n",
    "            soup = BeautifulSoup(html, 'html.parser')\n",
    "            record_table = soup.find_all('table')\n",
    "            data = parser.make2d(record_table[0])\n",
    "            df = pd.DataFrame(data[1:], columns=data[0])\n",
    "            df = df.drop(['순위', '팀명'], axis=1)\n",
    "            year_record[j] = pd.concat([year_record[j], df], ignore_index=True)\n",
    "\n",
    "            year_record[j].to_csv('./한화' + '_' + str(list(sort_list.keys())[i]) + \"_\" + month[k]\n",
    "                                  + '_' + str(kbo_list[j]) + '.csv', index=False)\n",
    "            \n",
    "            # DataFrame 초기화\n",
    "            year_record[j] = pd.DataFrame()\n",
    "            \n",
    "    driver.close()"
   ]
  },
  {
   "cell_type": "code",
   "execution_count": 31,
   "id": "8b37bd17",
   "metadata": {},
   "outputs": [
    {
     "data": {
      "image/png": "[encoded data removed]",
      "text/plain": [
       "<Figure size 432x288 with 1 Axes>"
      ]
     },
     "metadata": {
      "needs_background": "light"
     },
     "output_type": "display_data"
    },
    {
     "data": {
      "image/png": "[encoded data removed]",
      "text/plain": [
       "<Figure size 432x288 with 1 Axes>"
      ]
     },
     "metadata": {
      "needs_background": "light"
     },
     "output_type": "display_data"
    },
    {
     "data": {
      "image/png": "[encoded data removed]",
      "text/plain": [
       "<Figure size 432x288 with 1 Axes>"
      ]
     },
     "metadata": {
      "needs_background": "light"
     },
     "output_type": "display_data"
    },
    {
     "data": {
      "image/png": "[encoded data removed]",
      "text/plain": [
       "<Figure size 432x288 with 1 Axes>"
      ]
     },
     "metadata": {
      "needs_background": "light"
     },
     "output_type": "display_data"
    },
    {
     "data": {
      "image/png": "[encoded data removed]",
      "text/plain": [
       "<Figure size 432x288 with 1 Axes>"
      ]
     },
     "metadata": {
      "needs_background": "light"
     },
     "output_type": "display_data"
    },
    {
     "data": {
      "image/png": "[encoded data removed]",
      "text/plain": [
       "<Figure size 432x288 with 1 Axes>"
      ]
     },
     "metadata": {
      "needs_background": "light"
     },
     "output_type": "display_data"
    },
    {
     "data": {
      "image/png": "[encoded data removed]",
      "text/plain": [
       "<Figure size 432x288 with 1 Axes>"
      ]
     },
     "metadata": {
      "needs_background": "light"
     },
     "output_type": "display_data"
    },
    {
     "data": {
      "image/png": "[encoded data removed]",
      "text/plain": [
       "<Figure size 432x288 with 1 Axes>"
      ]
     },
     "metadata": {
      "needs_background": "light"
     },
     "output_type": "display_data"
    },
    {
     "data": {
      "image/png": "[encoded data removed]",
      "text/plain": [
       "<Figure size 432x288 with 1 Axes>"
      ]
     },
     "metadata": {
      "needs_background": "light"
     },
     "output_type": "display_data"
    },
    {
     "data": {
      "image/png": "[encoded data removed]",
      "text/plain": [
       "<Figure size 432x288 with 1 Axes>"
      ]
     },
     "metadata": {
      "needs_background": "light"
     },
     "output_type": "display_data"
    },
    {
     "data": {
      "image/png": "[encoded data removed]",
      "text/plain": [
       "<Figure size 432x288 with 1 Axes>"
      ]
     },
     "metadata": {
      "needs_background": "light"
     },
     "output_type": "display_data"
    },
    {
     "data": {
      "image/png": "[encoded data removed]",
      "text/plain": [
       "<Figure size 432x288 with 1 Axes>"
      ]
     },
     "metadata": {
      "needs_background": "light"
     },
     "output_type": "display_data"
    },
    {
     "data": {
      "image/png": "[encoded data removed]",
      "text/plain": [
       "<Figure size 432x288 with 1 Axes>"
      ]
     },
     "metadata": {
      "needs_background": "light"
     },
     "output_type": "display_data"
    },
    {
     "data": {
      "image/png": "[encoded data removed]",
      "text/plain": [
       "<Figure size 432x288 with 1 Axes>"
      ]
     },
     "metadata": {
      "needs_background": "light"
     },
     "output_type": "display_data"
    },
    {
     "data": {
      "image/png": "[encoded data removed]",
      "text/plain": [
       "<Figure size 432x288 with 1 Axes>"
      ]
     },
     "metadata": {
      "needs_background": "light"
     },
     "output_type": "display_data"
    },
    {
     "data": {
      "image/png": "[encoded data removed]",
      "text/plain": [
       "<Figure size 432x288 with 1 Axes>"
      ]
     },
     "metadata": {
      "needs_background": "light"
     },
     "output_type": "display_data"
    },
    {
     "data": {
      "image/png": "[encoded data removed]",
      "text/plain": [
       "<Figure size 432x288 with 1 Axes>"
      ]
     },
     "metadata": {
      "needs_background": "light"
     },
     "output_type": "display_data"
    },
    {
     "data": {
      "image/png": "[encoded data removed]",
      "text/plain": [
       "<Figure size 432x288 with 1 Axes>"
      ]
     },
     "metadata": {
      "needs_background": "light"
     },
     "output_type": "display_data"
    },
    {
     "data": {
      "image/png": "[encoded data removed]",
      "text/plain": [
       "<Figure size 432x288 with 1 Axes>"
      ]
     },
     "metadata": {
      "needs_background": "light"
     },
     "output_type": "display_data"
    },
    {
     "data": {
      "image/png": "[encoded data removed]",
      "text/plain": [
       "<Figure size 432x288 with 1 Axes>"
      ]
     },
     "metadata": {
      "needs_background": "light"
     },
     "output_type": "display_data"
    },
    {
     "data": {
      "image/png": "[encoded data removed]",
      "text/plain": [
       "<Figure size 432x288 with 1 Axes>"
      ]
     },
     "metadata": {
      "needs_background": "light"
     },
     "output_type": "display_data"
    },
    {
     "data": {
      "image/png": "[encoded data removed]",
      "text/plain": [
       "<Figure size 432x288 with 1 Axes>"
      ]
     },
     "metadata": {
      "needs_background": "light"
     },
     "output_type": "display_data"
    },
    {
     "data": {
      "image/png": "[encoded data removed]",
      "text/plain": [
       "<Figure size 432x288 with 1 Axes>"
      ]
     },
     "metadata": {
      "needs_background": "light"
     },
     "output_type": "display_data"
    },
    {
     "data": {
      "image/png": "[encoded data removed]",
      "text/plain": [
       "<Figure size 432x288 with 1 Axes>"
      ]
     },
     "metadata": {
      "needs_background": "light"
     },
     "output_type": "display_data"
    },
    {
     "data": {
      "image/png": "[encoded data removed]",
      "text/plain": [
       "<Figure size 432x288 with 1 Axes>"
      ]
     },
     "metadata": {
      "needs_background": "light"
     },
     "output_type": "display_data"
    },
    {
     "data": {
      "image/png": "[encoded data removed]",
      "text/plain": [
       "<Figure size 432x288 with 1 Axes>"
      ]
     },
     "metadata": {
      "needs_background": "light"
     },
     "output_type": "display_data"
    },
    {
     "data": {
      "image/png": "[encoded data removed]",
      "text/plain": [
       "<Figure size 432x288 with 1 Axes>"
      ]
     },
     "metadata": {
      "needs_background": "light"
     },
     "output_type": "display_data"
    },
    {
     "data": {
      "image/png": "[encoded data removed]",
      "text/plain": [
       "<Figure size 432x288 with 1 Axes>"
      ]
     },
     "metadata": {
      "needs_background": "light"
     },
     "output_type": "display_data"
    },
    {
     "data": {
      "image/png": "[encoded data removed]",
      "text/plain": [
       "<Figure size 432x288 with 1 Axes>"
      ]
     },
     "metadata": {
      "needs_background": "light"
     },
     "output_type": "display_data"
    },
    {
     "data": {
      "image/png": "[encoded data removed]",
      "text/plain": [
       "<Figure size 432x288 with 1 Axes>"
      ]
     },
     "metadata": {
      "needs_background": "light"
     },
     "output_type": "display_data"
    },
    {
     "data": {
      "image/png": "[encoded data removed]",
      "text/plain": [
       "<Figure size 432x288 with 1 Axes>"
      ]
     },
     "metadata": {
      "needs_background": "light"
     },
     "output_type": "display_data"
    },
    {
     "data": {
      "image/png": "[encoded data removed]",
      "text/plain": [
       "<Figure size 432x288 with 1 Axes>"
      ]
     },
     "metadata": {
      "needs_background": "light"
     },
     "output_type": "display_data"
    },
    {
     "data": {
      "image/png": "[encoded data removed]",
      "text/plain": [
       "<Figure size 432x288 with 1 Axes>"
      ]
     },
     "metadata": {
      "needs_background": "light"
     },
     "output_type": "display_data"
    },
    {
     "data": {
      "image/png": "[encoded data removed]",
      "text/plain": [
       "<Figure size 432x288 with 1 Axes>"
      ]
     },
     "metadata": {
      "needs_background": "light"
     },
     "output_type": "display_data"
    },
    {
     "data": {
      "image/png": "[encoded data removed]",
      "text/plain": [
       "<Figure size 432x288 with 1 Axes>"
      ]
     },
     "metadata": {
      "needs_background": "light"
     },
     "output_type": "display_data"
    },
    {
     "data": {
      "image/png": "[encoded data removed]",
      "text/plain": [
       "<Figure size 432x288 with 1 Axes>"
      ]
     },
     "metadata": {
      "needs_background": "light"
     },
     "output_type": "display_data"
    },
    {
     "data": {
      "image/png": "[encoded data removed]",
      "text/plain": [
       "<Figure size 432x288 with 1 Axes>"
      ]
     },
     "metadata": {
      "needs_background": "light"
     },
     "output_type": "display_data"
    },
    {
     "data": {
      "image/png": "[encoded data removed]",
      "text/plain": [
       "<Figure size 432x288 with 1 Axes>"
      ]
     },
     "metadata": {
      "needs_background": "light"
     },
     "output_type": "display_data"
    },
    {
     "data": {
      "image/png": "[encoded data removed]",
      "text/plain": [
       "<Figure size 432x288 with 1 Axes>"
      ]
     },
     "metadata": {
      "needs_background": "light"
     },
     "output_type": "display_data"
    },
    {
     "data": {
      "image/png": "[encoded data removed]",
      "text/plain": [
       "<Figure size 432x288 with 1 Axes>"
      ]
     },
     "metadata": {
      "needs_background": "light"
     },
     "output_type": "display_data"
    },
    {
     "data": {
      "image/png": "[encoded data removed]",
      "text/plain": [
       "<Figure size 432x288 with 1 Axes>"
      ]
     },
     "metadata": {
      "needs_background": "light"
     },
     "output_type": "display_data"
    },
    {
     "data": {
      "image/png": "[encoded data removed]",
      "text/plain": [
       "<Figure size 432x288 with 1 Axes>"
      ]
     },
     "metadata": {
      "needs_background": "light"
     },
     "output_type": "display_data"
    },
    {
     "data": {
      "image/png": "[encoded data removed]",
      "text/plain": [
       "<Figure size 432x288 with 1 Axes>"
      ]
     },
     "metadata": {
      "needs_background": "light"
     },
     "output_type": "display_data"
    },
    {
     "data": {
      "image/png": "[encoded data removed]",
      "text/plain": [
       "<Figure size 432x288 with 1 Axes>"
      ]
     },
     "metadata": {
      "needs_background": "light"
     },
     "output_type": "display_data"
    },
    {
     "data": {
      "image/png": "[encoded data removed]",
      "text/plain": [
       "<Figure size 432x288 with 1 Axes>"
      ]
     },
     "metadata": {
      "needs_background": "light"
     },
     "output_type": "display_data"
    },
    {
     "data": {
      "image/png": "[encoded data removed]",
      "text/plain": [
       "<Figure size 432x288 with 1 Axes>"
      ]
     },
     "metadata": {
      "needs_background": "light"
     },
     "output_type": "display_data"
    },
    {
     "data": {
      "image/png": "[encoded data removed]",
      "text/plain": [
       "<Figure size 432x288 with 1 Axes>"
      ]
     },
     "metadata": {
      "needs_background": "light"
     },
     "output_type": "display_data"
    },
    {
     "data": {
      "image/png": "[encoded data removed]",
      "text/plain": [
       "<Figure size 432x288 with 1 Axes>"
      ]
     },
     "metadata": {
      "needs_background": "light"
     },
     "output_type": "display_data"
    }
   ],
   "source": [
    "import numpy as np\n",
    "import pandas as pd\n",
    "import matplotlib.pyplot as plt\n",
    "\n",
    "# 2018 ~ 2021 팀 성적 csv 불러오기\n",
    "file = []\n",
    "year_record = pd.DataFrame()\n",
    "\n",
    "for i in range(2018, 2022):\n",
    "    file.append(pd.read_csv('./' + str(i) + '_new.csv'))\n",
    "    \n",
    "# 하나로 합침\n",
    "for f in file:\n",
    "    year_record = pd.concat([year_record, f], ignore_index=True)\n",
    "    \n",
    "# 한화 팀 성적만 추출\n",
    "df = year_record.loc[year_record['팀명'] == '한화']\n",
    "df.rename(columns={'팀명':'TEAM', '순위':'RANK'}, inplace=True)\n",
    "\n",
    "df = df.drop(['PA', 'AB', 'IP', 'TBF', 'NP', 'E', 'PKO_x', 'PO', 'A', 'DP', 'FPCT', 'PB', \n",
    "              'SB_x', 'CS_x', 'CS%', 'SBA', 'SB_y', 'CS_y', 'SB%', 'OOB', 'PKO_y'], axis=1)\n",
    "\n",
    "x = [1, 2, 3, 4]\n",
    "year = [2018, 2019, 2020, 2021]\n",
    "\n",
    "# 막대그래프\n",
    "for i in range(1, 49):\n",
    "    plt.title(df.columns[i])\n",
    "    plt.bar(x, df[df.columns[i]], width=0.4)\n",
    "    plt.xticks(x, year)\n",
    "    plt.show()"
   ]
  },
  {
   "cell_type": "code",
   "execution_count": null,
   "id": "c9cda7e2",
   "metadata": {},
   "outputs": [],
   "source": []
  },
  {
   "cell_type": "code",
   "execution_count": null,
   "id": "8c2845dd",
   "metadata": {},
   "outputs": [],
   "source": []
  },
  {
   "cell_type": "code",
   "execution_count": 8,
   "id": "0c4e85d7",
   "metadata": {},
   "outputs": [
    {
     "name": "stdout",
     "output_type": "stream",
     "text": [
      "0    KIA\n",
      "1     KT\n",
      "2     LG\n",
      "3     NC\n",
      "4    SSG\n",
      "5     두산\n",
      "6     롯데\n",
      "7     삼성\n",
      "8     키움\n",
      "9     한화\n",
      "Name: 팀명, dtype: object\n"
     ]
    },
    {
     "data": {
      "text/html": [
       "<div>\n",
       "<style scoped>\n",
       "    .dataframe tbody tr th:only-of-type {\n",
       "        vertical-align: middle;\n",
       "    }\n",
       "\n",
       "    .dataframe tbody tr th {\n",
       "        vertical-align: top;\n",
       "    }\n",
       "\n",
       "    .dataframe thead th {\n",
       "        text-align: right;\n",
       "    }\n",
       "</style>\n",
       "<table border=\"1\" class=\"dataframe\">\n",
       "  <thead>\n",
       "    <tr style=\"text-align: right;\">\n",
       "      <th></th>\n",
       "      <th>R_x</th>\n",
       "      <th>OPS</th>\n",
       "      <th>SV</th>\n",
       "      <th>R_y</th>\n",
       "      <th>AVG</th>\n",
       "    </tr>\n",
       "  </thead>\n",
       "  <tbody>\n",
       "    <tr>\n",
       "      <th>2</th>\n",
       "      <td>699.000000</td>\n",
       "      <td>0.732667</td>\n",
       "      <td>34.666667</td>\n",
       "      <td>629.333333</td>\n",
       "      <td>0.255333</td>\n",
       "    </tr>\n",
       "    <tr>\n",
       "      <th>9</th>\n",
       "      <td>585.666667</td>\n",
       "      <td>0.673000</td>\n",
       "      <td>23.333333</td>\n",
       "      <td>765.333333</td>\n",
       "      <td>0.272333</td>\n",
       "    </tr>\n",
       "  </tbody>\n",
       "</table>\n",
       "</div>"
      ],
      "text/plain": [
       "          R_x       OPS         SV         R_y       AVG\n",
       "2  699.000000  0.732667  34.666667  629.333333  0.255333\n",
       "9  585.666667  0.673000  23.333333  765.333333  0.272333"
      ]
     },
     "execution_count": 8,
     "metadata": {},
     "output_type": "execute_result"
    }
   ],
   "source": [
    "import numpy as np\n",
    "import pandas as pd\n",
    "import matplotlib.pyplot as plt\n",
    "\n",
    "# 2019 ~ 2021 팀 성적 csv 불러오기\n",
    "file = []\n",
    "year_record = []\n",
    "\n",
    "for i in range(2019, 2022):\n",
    "    year_record.append(pd.read_csv('./' + str(i) + '_new.csv'))\n",
    "    year_record[i-2019] = year_record[i-2019][['팀명', 'R_x', 'OPS', 'SV', 'R_y', 'AVG']]\n",
    "    for j in range(0, 10):\n",
    "        if year_record[i-2019]['팀명'][j] == 'SK':\n",
    "            year_record[i-2019]['팀명'][j] = 'SSG'\n",
    "    year_record[i-2019] = year_record[i-2019].sort_values(by=['팀명'], axis=0)\n",
    "    year_record[i-2019].index = [0,1,2,3,4,5,6,7,8,9]\n",
    "team = year_record[0]['팀명']\n",
    "    \n",
    "# 3년간의 팀 성적 평균으로 예측\n",
    "data = year_record[0][['R_x', 'OPS', 'SV', 'R_y', 'AVG']].add(year_record[1][['R_x', 'OPS', 'SV', 'R_y', 'AVG']].\\\n",
    "                                                              add(year_record[2][['R_x', 'OPS', 'SV', 'R_y', 'AVG']])) \n",
    "data /= 3\n",
    "print(team)\n",
    "data.loc[[2, 9], :]"
   ]
  },
  {
   "cell_type": "code",
   "execution_count": null,
   "id": "4d72e8a9",
   "metadata": {},
   "outputs": [],
   "source": []
  },
  {
   "cell_type": "code",
   "execution_count": null,
   "id": "c8368aae",
   "metadata": {},
   "outputs": [],
   "source": []
  },
  {
   "cell_type": "code",
   "execution_count": 76,
   "id": "b1497156",
   "metadata": {},
   "outputs": [
    {
     "name": "stdout",
     "output_type": "stream",
     "text": [
      "0    KIA\n",
      "1     KT\n",
      "2     LG\n",
      "3     NC\n",
      "4    SSG\n",
      "5     두산\n",
      "6     롯데\n",
      "7     삼성\n",
      "8     키움\n",
      "9     한화\n",
      "Name: 팀명, dtype: object\n",
      "          R_x       OPS         SV         R_y       AVG\n",
      "0  632.333333  0.711000  33.000000  756.666667  0.275000\n",
      "1  727.333333  0.753333  34.333333  653.333333  0.261000\n",
      "2  699.000000  0.732667  34.666667  629.333333  0.255333\n",
      "3  754.666667  0.782667  32.000000  680.666667  0.260667\n",
      "4  681.333333  0.734667  32.000000  711.000000  0.264667\n",
      "5  763.333333  0.758667  31.666667  633.666667  0.266667\n",
      "6  685.000000  0.730000  26.000000  764.000000  0.274667\n",
      "7  677.666667  0.731000  33.333333  711.333333  0.268333\n",
      "8  753.666667  0.751333  37.000000  654.666667  0.265667\n",
      "9  585.666667  0.673000  23.333333  765.333333  0.272333\n"
     ]
    },
    {
     "data": {
      "text/html": [
       "<div>\n",
       "<style scoped>\n",
       "    .dataframe tbody tr th:only-of-type {\n",
       "        vertical-align: middle;\n",
       "    }\n",
       "\n",
       "    .dataframe tbody tr th {\n",
       "        vertical-align: top;\n",
       "    }\n",
       "\n",
       "    .dataframe thead th {\n",
       "        text-align: right;\n",
       "    }\n",
       "</style>\n",
       "<table border=\"1\" class=\"dataframe\">\n",
       "  <thead>\n",
       "    <tr style=\"text-align: right;\">\n",
       "      <th></th>\n",
       "      <th>팀명</th>\n",
       "      <th>승률</th>\n",
       "    </tr>\n",
       "  </thead>\n",
       "  <tbody>\n",
       "    <tr>\n",
       "      <th>1</th>\n",
       "      <td>두산</td>\n",
       "      <td>0.569140</td>\n",
       "    </tr>\n",
       "    <tr>\n",
       "      <th>2</th>\n",
       "      <td>키움</td>\n",
       "      <td>0.566093</td>\n",
       "    </tr>\n",
       "    <tr>\n",
       "      <th>3</th>\n",
       "      <td>NC</td>\n",
       "      <td>0.552758</td>\n",
       "    </tr>\n",
       "    <tr>\n",
       "      <th>4</th>\n",
       "      <td>KT</td>\n",
       "      <td>0.550382</td>\n",
       "    </tr>\n",
       "    <tr>\n",
       "      <th>5</th>\n",
       "      <td>LG</td>\n",
       "      <td>0.547356</td>\n",
       "    </tr>\n",
       "    <tr>\n",
       "      <th>6</th>\n",
       "      <td>SSG</td>\n",
       "      <td>0.486032</td>\n",
       "    </tr>\n",
       "    <tr>\n",
       "      <th>7</th>\n",
       "      <td>삼성</td>\n",
       "      <td>0.483715</td>\n",
       "    </tr>\n",
       "    <tr>\n",
       "      <th>8</th>\n",
       "      <td>롯데</td>\n",
       "      <td>0.439398</td>\n",
       "    </tr>\n",
       "    <tr>\n",
       "      <th>9</th>\n",
       "      <td>KIA</td>\n",
       "      <td>0.428052</td>\n",
       "    </tr>\n",
       "    <tr>\n",
       "      <th>10</th>\n",
       "      <td>한화</td>\n",
       "      <td>0.369110</td>\n",
       "    </tr>\n",
       "  </tbody>\n",
       "</table>\n",
       "</div>"
      ],
      "text/plain": [
       "     팀명        승률\n",
       "1    두산  0.569140\n",
       "2    키움  0.566093\n",
       "3    NC  0.552758\n",
       "4    KT  0.550382\n",
       "5    LG  0.547356\n",
       "6   SSG  0.486032\n",
       "7    삼성  0.483715\n",
       "8    롯데  0.439398\n",
       "9   KIA  0.428052\n",
       "10   한화  0.369110"
      ]
     },
     "execution_count": 76,
     "metadata": {},
     "output_type": "execute_result"
    }
   ],
   "source": [
    "import numpy as np\n",
    "import pandas as pd\n",
    "import matplotlib.pyplot as plt\n",
    "\n",
    "# 2019 ~ 2021 팀 성적 csv 불러오기\n",
    "file = []\n",
    "year_record = []\n",
    "\n",
    "for i in range(2019, 2022):\n",
    "    year_record.append(pd.read_csv('./' + str(i) + '_new.csv'))\n",
    "    year_record[i-2019] = year_record[i-2019][['팀명', 'R_x', 'OPS', 'SV', 'R_y', 'AVG']]\n",
    "    for j in range(0, 10):\n",
    "        if year_record[i-2019]['팀명'][j] == 'SK':\n",
    "            year_record[i-2019]['팀명'][j] = 'SSG'\n",
    "    year_record[i-2019] = year_record[i-2019].sort_values(by=['팀명'], axis=0)\n",
    "    year_record[i-2019].index = [0,1,2,3,4,5,6,7,8,9]\n",
    "team = year_record[0]['팀명']\n",
    "    \n",
    "# 3년간의 팀 성적 평균으로 예측\n",
    "data = year_record[0][['R_x', 'OPS', 'SV', 'R_y', 'AVG']].add(year_record[1][['R_x', 'OPS', 'SV', 'R_y', 'AVG']].\\\n",
    "                                                              add(year_record[2][['R_x', 'OPS', 'SV', 'R_y', 'AVG']])) \n",
    "data /= 3\n",
    "print(team)\n",
    "print(data)\n",
    "\n",
    "# model6를 가지고 predict() 실행\n",
    "y_pred = res6.predict(data)\n",
    "\n",
    "next_year = pd.DataFrame(columns=['팀명', '승률'])\n",
    "next_year['팀명'] = team\n",
    "next_year['승률'] = y_pred\n",
    "next_year = next_year.sort_values(by=['승률'], axis=0, ascending=False)\n",
    "next_year.index = [1,2,3,4,5,6,7,8,9,10]\n",
    "next_year"
   ]
  },
  {
   "cell_type": "code",
   "execution_count": 77,
   "id": "e1afe78e",
   "metadata": {},
   "outputs": [
    {
     "data": {
      "text/plain": [
       "4.992035878268989"
      ]
     },
     "execution_count": 77,
     "metadata": {},
     "output_type": "execute_result"
    }
   ],
   "source": [
    "np.sum(next_year['승률'])"
   ]
  },
  {
   "cell_type": "code",
   "execution_count": 11,
   "id": "2ae4d967",
   "metadata": {},
   "outputs": [],
   "source": [
    "# KBO 기록실에서 연도별 선수 성적 크롤링\n",
    "import numpy as np\n",
    "import pandas as pd\n",
    "import time\n",
    "from bs4 import BeautifulSoup\n",
    "from selenium import webdriver\n",
    "from html_table_parser import parser_functions as parser\n",
    "from selenium.webdriver.support.select import Select\n",
    "\n",
    "# Query 변수\n",
    "sort_list = {\"HitterBasic\" : \"BasicOld\", \"PitcherBasic\" : \"BasicOld\"}\n",
    "team_list = {\"두산\" : \"OB\", \"롯데\" : \"LT\", \"삼성\" : \"SS\", \"키움\" : \"WO\", \"한화\" : \"HH\",\n",
    "             \"KIA\" : \"HT\", \"KT\" : \"KT\", \"LG\" : \"LG\", \"NC\" : \"NC\", \"SSG\" : \"SK\"}\n",
    "\n",
    "# 2018 ~ 2021 선수 성적\n",
    "kbo_list = list(np.arange(2019, 2022))\n",
    "year_record = []\n",
    "\n",
    "for record in kbo_list:\n",
    "    record = pd.DataFrame()\n",
    "    year_record.append(record)\n",
    "    \n",
    "for i in range(0, len(sort_list)):\n",
    "    # 드라이버 객체\n",
    "    driver = webdriver.Chrome(executable_path='D:/conda/chromedriver.exe')\n",
    "    \n",
    "    # KBO 기록실 URL\n",
    "    part_URL = \"https://www.koreabaseball.com/Record/Player/\"\n",
    "        \n",
    "    # 각 기록별 URL\n",
    "    part_URL += list(sort_list.keys())[i] + \"/\" + list(sort_list.values())[i] + \".aspx\"\n",
    "    \n",
    "    driver.get(url=str(part_URL))\n",
    "    \n",
    "    select_tag = Select(driver.find_element_by_id(\"cphContents_cphContents_cphContents_ddlSeries_ddlSeries\"))\n",
    "    select_tag.select_by_value(str(0))\n",
    "        \n",
    "    time.sleep(2)\n",
    "    \n",
    "    for j in range(0, 3):   \n",
    "        select_tag = Select(driver.find_element_by_id(\"cphContents_cphContents_cphContents_ddlSeason_ddlSeason\"))\n",
    "        select_tag.select_by_value(str(kbo_list[j]))\n",
    "        \n",
    "        time.sleep(2)\n",
    "        \n",
    "        for k in range(0, 10):\n",
    "            select_tag = Select(driver.find_element_by_id(\"cphContents_cphContents_cphContents_ddlTeam_ddlTeam\"))\n",
    "            select_tag.select_by_value(list(team_list.values())[k])\n",
    "\n",
    "            time.sleep(2)\n",
    "            \n",
    "            button = driver.find_elements_by_xpath('//*[@id=\"cphContents_cphContents_cphContents_udpContent\"]/div[2]/div[2]/a[1]')[0]\n",
    "            button.click()\n",
    "            \n",
    "            time.sleep(2)\n",
    "\n",
    "            html = driver.page_source\n",
    "            soup = BeautifulSoup(html, 'html.parser')\n",
    "            record_table = soup.find_all('table')\n",
    "            data = parser.make2d(record_table[0])\n",
    "            df = pd.DataFrame(data[1:], columns=data[0])\n",
    "            df = df.drop(['순위'], axis=1)\n",
    "            year_record[j] = pd.concat([year_record[j], df], ignore_index=True)\n",
    "\n",
    "            button = driver.find_elements_by_xpath('//*[@id=\"cphContents_cphContents_cphContents_udpContent\"]/div[2]/div[2]/a[2]')[0]\n",
    "            button.click()\n",
    "\n",
    "            time.sleep(2)\n",
    "\n",
    "            html = driver.page_source\n",
    "            soup = BeautifulSoup(html, 'html.parser')\n",
    "            record_table = soup.find_all('table')\n",
    "            data = parser.make2d(record_table[0])\n",
    "            df = pd.DataFrame(data[1:], columns=data[0])\n",
    "            df = df.drop(['순위', '팀명'], axis=1)\n",
    "            year_record[j] = pd.merge(year_record[j], df, on='선수명')\n",
    "\n",
    "            year_record[j].to_csv('./' + str(list(team_list.keys())[k]) + '_' + str(list(sort_list.keys())[i])\n",
    "                                  + '_' + str(kbo_list[j]) + '.csv', index=False)\n",
    "            \n",
    "            # DataFrame 초기화\n",
    "            year_record[j] = pd.DataFrame()\n",
    "            \n",
    "    driver.close()"
   ]
  },
  {
   "cell_type": "code",
   "execution_count": null,
   "id": "2dee848f",
   "metadata": {},
   "outputs": [],
   "source": []
  }
 ],
 "metadata": {
  "kernelspec": {
   "display_name": "Python 3",
   "language": "python",
   "name": "python3"
  },
  "language_info": {
   "codemirror_mode": {
    "name": "ipython",
    "version": 3
   },
   "file_extension": ".py",
   "mimetype": "text/x-python",
   "name": "python",
   "nbconvert_exporter": "python",
   "pygments_lexer": "ipython3",
   "version": "3.7.0"
  }
 },
 "nbformat": 4,
 "nbformat_minor": 5
}
